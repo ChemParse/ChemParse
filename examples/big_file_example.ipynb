{
 "cells": [
  {
   "cell_type": "markdown",
   "metadata": {},
   "source": [
    "If you need to handle reasonably large outputs ~ 100MB, it would be faster to extract the particular block you are interested in, instead of creating a markup for the whole document"
   ]
  },
  {
   "cell_type": "code",
   "execution_count": 1,
   "metadata": {},
   "outputs": [],
   "source": [
    "import chemparse as chp"
   ]
  },
  {
   "cell_type": "markdown",
   "metadata": {},
   "source": [
    "You can create your own regex or use one from the standard ones (see add_block_example)"
   ]
  },
  {
   "cell_type": "code",
   "execution_count": 2,
   "metadata": {},
   "outputs": [
    {
     "data": {
      "text/plain": [
       "RegexRequest(p_type='Block', p_subtype='BlockOrcaFinalSinglePointEnergy', pattern='^((-{20,}\\s+-{15,}\\n)[...', flags=re.MULTILINE, comment='This pattern matches t...')"
      ]
     },
     "execution_count": 2,
     "metadata": {},
     "output_type": "execute_result"
    }
   ],
   "source": [
    "regex = (chp.RegexSettings(chp.DEFAULT_ORCA_REGEX_FILE).\n",
    "         items[\"TypeKnownBlocks\"].items[\"BlockOrcaFinalSinglePointEnergy\"])\n",
    "regex"
   ]
  },
  {
   "cell_type": "code",
   "execution_count": 3,
   "metadata": {},
   "outputs": [],
   "source": [
    "with open(\"example.out\", \"r\") as file:\n",
    "    long_orca = file.read()"
   ]
  },
  {
   "cell_type": "code",
   "execution_count": 4,
   "metadata": {},
   "outputs": [
    {
     "name": "stderr",
     "output_type": "stream",
     "text": [
      "Processing BlockOrcaFinalSinglePointEnergy: 100%|██████████| 626/626 [00:00<00:00, 856650.67it/s]  \n"
     ]
    }
   ],
   "source": [
    "processed_text, new_blocks = regex.apply(long_orca, show_progress=True)"
   ]
  },
  {
   "cell_type": "code",
   "execution_count": 5,
   "metadata": {},
   "outputs": [
    {
     "data": {
      "text/plain": [
       "{8155629891029: {'Element': <chemparse.orca_elements.BlockOrcaFinalSinglePointEnergy at 0x76ae16c2dd50>,\n",
       "  'CharPosition': (354, 500),\n",
       "  'LinePosition': (18, 21)}}"
      ]
     },
     "execution_count": 5,
     "metadata": {},
     "output_type": "execute_result"
    }
   ],
   "source": [
    "new_blocks"
   ]
  },
  {
   "cell_type": "code",
   "execution_count": 6,
   "metadata": {},
   "outputs": [
    {
     "name": "stdout",
     "output_type": "stream",
     "text": [
      "-440.508559636589 hartree\n"
     ]
    }
   ],
   "source": [
    "for v in new_blocks.values():\n",
    "    block: chp.elements.Block = v[\"Element\"]\n",
    "    print(block.data()[\"Energy\"])"
   ]
  },
  {
   "cell_type": "markdown",
   "metadata": {},
   "source": [
    "If you want to work with something that weight more than 1GB and you have the same pattern repeating many times, you might benefit form excluding the creation of `Block` instances at all, working with the pure regex: "
   ]
  },
  {
   "cell_type": "code",
   "execution_count": 7,
   "metadata": {},
   "outputs": [
    {
     "data": {
      "text/plain": [
       "re.compile(r'^((-{20,}\\s+-{15,}\\n)[ \\t]*FINAL SINGLE POINT ENERGY[ \\t]+-?\\d+\\.\\d+\\n\\2)',\n",
       "           re.MULTILINE|re.UNICODE)"
      ]
     },
     "execution_count": 7,
     "metadata": {},
     "output_type": "execute_result"
    }
   ],
   "source": [
    "compiled_pattern = regex.compile()\n",
    "compiled_pattern"
   ]
  },
  {
   "cell_type": "code",
   "execution_count": 8,
   "metadata": {},
   "outputs": [
    {
     "name": "stdout",
     "output_type": "stream",
     "text": [
      "-------------------------   --------------------\n",
      "FINAL SINGLE POINT ENERGY      -440.508559636589\n",
      "-------------------------   --------------------\n",
      "\n"
     ]
    }
   ],
   "source": [
    "for match in compiled_pattern.finditer(long_orca):\n",
    "    print(match.group(1))"
   ]
  },
  {
   "cell_type": "code",
   "execution_count": null,
   "metadata": {},
   "outputs": [],
   "source": []
  }
 ],
 "metadata": {
  "kernelspec": {
   "display_name": "orcaparse-JPddDQYw-py3.10",
   "language": "python",
   "name": "python3"
  },
  "language_info": {
   "codemirror_mode": {
    "name": "ipython",
    "version": 3
   },
   "file_extension": ".py",
   "mimetype": "text/x-python",
   "name": "python",
   "nbconvert_exporter": "python",
   "pygments_lexer": "ipython3",
   "version": "3.10.12"
  }
 },
 "nbformat": 4,
 "nbformat_minor": 2
}
