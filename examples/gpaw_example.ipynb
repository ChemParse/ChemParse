{
 "cells": [
  {
   "cell_type": "code",
   "execution_count": 6,
   "metadata": {},
   "outputs": [],
   "source": [
    "import chemparse as chp"
   ]
  },
  {
   "cell_type": "markdown",
   "metadata": {},
   "source": [
    "Use `mode` argument to change the extraction mode in `File`\n",
    "\n",
    "For now, `ORCA` and `GPAW` are available"
   ]
  },
  {
   "cell_type": "code",
   "execution_count": 7,
   "metadata": {},
   "outputs": [],
   "source": [
    "gpaw_file = chp.File(\"example_gpaw.txt\", mode=\"GPAW\")"
   ]
  },
  {
   "cell_type": "code",
   "execution_count": 8,
   "metadata": {},
   "outputs": [
    {
     "data": {
      "text/html": [
       "<div>\n",
       "<style scoped>\n",
       "    .dataframe tbody tr th:only-of-type {\n",
       "        vertical-align: middle;\n",
       "    }\n",
       "\n",
       "    .dataframe tbody tr th {\n",
       "        vertical-align: top;\n",
       "    }\n",
       "\n",
       "    .dataframe thead th {\n",
       "        text-align: right;\n",
       "    }\n",
       "</style>\n",
       "<table border=\"1\" class=\"dataframe\">\n",
       "  <thead>\n",
       "    <tr style=\"text-align: right;\">\n",
       "      <th></th>\n",
       "      <th>Type</th>\n",
       "      <th>Subtype</th>\n",
       "      <th>Element</th>\n",
       "      <th>CharPosition</th>\n",
       "      <th>LinePosition</th>\n",
       "    </tr>\n",
       "  </thead>\n",
       "  <tbody>\n",
       "    <tr>\n",
       "      <th>8235358923795</th>\n",
       "      <td>Block</td>\n",
       "      <td>BlockGpawIcon</td>\n",
       "      <td>&lt;chemparse.gpaw_elements.BlockGpawIcon object ...</td>\n",
       "      <td>(1, 109)</td>\n",
       "      <td>(3, 8)</td>\n",
       "    </tr>\n",
       "    <tr>\n",
       "      <th>8235358923798</th>\n",
       "      <td>Block</td>\n",
       "      <td>BlockGpawDipole</td>\n",
       "      <td>&lt;chemparse.gpaw_elements.BlockGpawDipole objec...</td>\n",
       "      <td>(111, 166)</td>\n",
       "      <td>(11, 12)</td>\n",
       "    </tr>\n",
       "    <tr>\n",
       "      <th>8235358923840</th>\n",
       "      <td>Spacer</td>\n",
       "      <td>Spacer</td>\n",
       "      <td>&lt;chemparse.elements.Spacer object at 0x77d71a4...</td>\n",
       "      <td>(0, 0)</td>\n",
       "      <td>(1, 2)</td>\n",
       "    </tr>\n",
       "    <tr>\n",
       "      <th>8235358923855</th>\n",
       "      <td>Spacer</td>\n",
       "      <td>Spacer</td>\n",
       "      <td>&lt;chemparse.elements.Spacer object at 0x77d71a4...</td>\n",
       "      <td>(110, 110)</td>\n",
       "      <td>(9, 10)</td>\n",
       "    </tr>\n",
       "  </tbody>\n",
       "</table>\n",
       "</div>"
      ],
      "text/plain": [
       "                 Type          Subtype  \\\n",
       "8235358923795   Block    BlockGpawIcon   \n",
       "8235358923798   Block  BlockGpawDipole   \n",
       "8235358923840  Spacer           Spacer   \n",
       "8235358923855  Spacer           Spacer   \n",
       "\n",
       "                                                         Element CharPosition  \\\n",
       "8235358923795  <chemparse.gpaw_elements.BlockGpawIcon object ...     (1, 109)   \n",
       "8235358923798  <chemparse.gpaw_elements.BlockGpawDipole objec...   (111, 166)   \n",
       "8235358923840  <chemparse.elements.Spacer object at 0x77d71a4...       (0, 0)   \n",
       "8235358923855  <chemparse.elements.Spacer object at 0x77d71a4...   (110, 110)   \n",
       "\n",
       "              LinePosition  \n",
       "8235358923795       (3, 8)  \n",
       "8235358923798     (11, 12)  \n",
       "8235358923840       (1, 2)  \n",
       "8235358923855      (9, 10)  "
      ]
     },
     "execution_count": 8,
     "metadata": {},
     "output_type": "execute_result"
    }
   ],
   "source": [
    "gpaw_file.get_blocks()"
   ]
  },
  {
   "cell_type": "markdown",
   "metadata": {},
   "source": [
    "Scripts support `mode` as well"
   ]
  },
  {
   "cell_type": "code",
   "execution_count": 9,
   "metadata": {},
   "outputs": [],
   "source": [
    "! chem_to_html example_gpaw.txt example_gpaw.html --mode GPAW"
   ]
  },
  {
   "cell_type": "markdown",
   "metadata": {},
   "source": [
    "Available blocks are stores as"
   ]
  },
  {
   "cell_type": "code",
   "execution_count": 10,
   "metadata": {},
   "outputs": [
    {
     "data": {
      "text/plain": [
       "{'BlockGpawIcon': chemparse.gpaw_elements.BlockGpawIcon,\n",
       " 'BlockGpawDipole': chemparse.gpaw_elements.BlockGpawDipole,\n",
       " 'BlockGpawEnergyContributions': chemparse.gpaw_elements.BlockGpawEnergyContributions,\n",
       " 'BlockGpawConvergedAfter': chemparse.gpaw_elements.BlockGpawConvergedAfter}"
      ]
     },
     "execution_count": 10,
     "metadata": {},
     "output_type": "execute_result"
    }
   ],
   "source": [
    "chp.gpaw_elements.AvailableBlocksGpaw.blocks"
   ]
  }
 ],
 "metadata": {
  "kernelspec": {
   "display_name": "orcaparse-JPddDQYw-py3.10",
   "language": "python",
   "name": "python3"
  },
  "language_info": {
   "codemirror_mode": {
    "name": "ipython",
    "version": 3
   },
   "file_extension": ".py",
   "mimetype": "text/x-python",
   "name": "python",
   "nbconvert_exporter": "python",
   "pygments_lexer": "ipython3",
   "version": "3.10.12"
  }
 },
 "nbformat": 4,
 "nbformat_minor": 2
}
