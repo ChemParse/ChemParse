{
 "cells": [
  {
   "cell_type": "code",
   "execution_count": 1,
   "metadata": {},
   "outputs": [],
   "source": [
    "import orcaparse as op"
   ]
  },
  {
   "cell_type": "markdown",
   "metadata": {},
   "source": [
    "Use `mode` argument to change the extraction mode in `File`\n",
    "\n",
    "For now, `ORCA` and `GPAW` are available"
   ]
  },
  {
   "cell_type": "code",
   "execution_count": 2,
   "metadata": {},
   "outputs": [],
   "source": [
    "gpaw_file = op.File(\"example_gpaw.txt\", mode=\"GPAW\")"
   ]
  },
  {
   "cell_type": "code",
   "execution_count": 3,
   "metadata": {},
   "outputs": [
    {
     "data": {
      "text/html": [
       "<div>\n",
       "<style scoped>\n",
       "    .dataframe tbody tr th:only-of-type {\n",
       "        vertical-align: middle;\n",
       "    }\n",
       "\n",
       "    .dataframe tbody tr th {\n",
       "        vertical-align: top;\n",
       "    }\n",
       "\n",
       "    .dataframe thead th {\n",
       "        text-align: right;\n",
       "    }\n",
       "</style>\n",
       "<table border=\"1\" class=\"dataframe\">\n",
       "  <thead>\n",
       "    <tr style=\"text-align: right;\">\n",
       "      <th></th>\n",
       "      <th>Type</th>\n",
       "      <th>Subtype</th>\n",
       "      <th>Element</th>\n",
       "      <th>CharPosition</th>\n",
       "      <th>LinePosition</th>\n",
       "    </tr>\n",
       "  </thead>\n",
       "  <tbody>\n",
       "    <tr>\n",
       "      <th>8616697092277</th>\n",
       "      <td>Block</td>\n",
       "      <td>BlockGpawIcon</td>\n",
       "      <td>&lt;orcaparse.gpaw_elements.BlockGpawIcon object ...</td>\n",
       "      <td>(1, 109)</td>\n",
       "      <td>(3, 8)</td>\n",
       "    </tr>\n",
       "    <tr>\n",
       "      <th>8616697092424</th>\n",
       "      <td>Block</td>\n",
       "      <td>BlockGpawDipole</td>\n",
       "      <td>&lt;orcaparse.gpaw_elements.BlockGpawDipole objec...</td>\n",
       "      <td>(111, 166)</td>\n",
       "      <td>(11, 12)</td>\n",
       "    </tr>\n",
       "    <tr>\n",
       "      <th>8616697092442</th>\n",
       "      <td>Spacer</td>\n",
       "      <td>Spacer</td>\n",
       "      <td>&lt;orcaparse.elements.Spacer object at 0x7d63b2b...</td>\n",
       "      <td>(0, 0)</td>\n",
       "      <td>(1, 2)</td>\n",
       "    </tr>\n",
       "    <tr>\n",
       "      <th>8616697092337</th>\n",
       "      <td>Spacer</td>\n",
       "      <td>Spacer</td>\n",
       "      <td>&lt;orcaparse.elements.Spacer object at 0x7d63b2b...</td>\n",
       "      <td>(110, 110)</td>\n",
       "      <td>(9, 10)</td>\n",
       "    </tr>\n",
       "  </tbody>\n",
       "</table>\n",
       "</div>"
      ],
      "text/plain": [
       "                 Type          Subtype  \\\n",
       "8616697092277   Block    BlockGpawIcon   \n",
       "8616697092424   Block  BlockGpawDipole   \n",
       "8616697092442  Spacer           Spacer   \n",
       "8616697092337  Spacer           Spacer   \n",
       "\n",
       "                                                         Element CharPosition  \\\n",
       "8616697092277  <orcaparse.gpaw_elements.BlockGpawIcon object ...     (1, 109)   \n",
       "8616697092424  <orcaparse.gpaw_elements.BlockGpawDipole objec...   (111, 166)   \n",
       "8616697092442  <orcaparse.elements.Spacer object at 0x7d63b2b...       (0, 0)   \n",
       "8616697092337  <orcaparse.elements.Spacer object at 0x7d63b2b...   (110, 110)   \n",
       "\n",
       "              LinePosition  \n",
       "8616697092277       (3, 8)  \n",
       "8616697092424     (11, 12)  \n",
       "8616697092442       (1, 2)  \n",
       "8616697092337      (9, 10)  "
      ]
     },
     "execution_count": 3,
     "metadata": {},
     "output_type": "execute_result"
    }
   ],
   "source": [
    "gpaw_file.get_blocks()"
   ]
  },
  {
   "cell_type": "markdown",
   "metadata": {},
   "source": [
    "Scripts support `mode` as well"
   ]
  },
  {
   "cell_type": "code",
   "execution_count": 4,
   "metadata": {},
   "outputs": [],
   "source": [
    "! orca_to_html example_gpaw.txt example_gpaw.html --mode GPAW"
   ]
  },
  {
   "cell_type": "markdown",
   "metadata": {},
   "source": [
    "Available blocks are stores as"
   ]
  },
  {
   "cell_type": "code",
   "execution_count": 5,
   "metadata": {},
   "outputs": [
    {
     "data": {
      "text/plain": [
       "{'BlockGpawIcon': orcaparse.gpaw_elements.BlockGpawIcon,\n",
       " 'BlockGpawDipole': orcaparse.gpaw_elements.BlockGpawDipole}"
      ]
     },
     "execution_count": 5,
     "metadata": {},
     "output_type": "execute_result"
    }
   ],
   "source": [
    "op.gpaw_elements.AvailableBlocksGpaw.blocks"
   ]
  }
 ],
 "metadata": {
  "kernelspec": {
   "display_name": "orcaparse-JPddDQYw-py3.10",
   "language": "python",
   "name": "python3"
  },
  "language_info": {
   "codemirror_mode": {
    "name": "ipython",
    "version": 3
   },
   "file_extension": ".py",
   "mimetype": "text/x-python",
   "name": "python",
   "nbconvert_exporter": "python",
   "pygments_lexer": "ipython3",
   "version": "3.10.12"
  }
 },
 "nbformat": 4,
 "nbformat_minor": 2
}
