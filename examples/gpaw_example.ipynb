{
 "cells": [
  {
   "cell_type": "code",
   "execution_count": 1,
   "metadata": {},
   "outputs": [],
   "source": [
    "import chemparse as chp"
   ]
  },
  {
   "cell_type": "markdown",
   "metadata": {},
   "source": [
    "Use `mode` argument to change the extraction mode in `File`\n",
    "\n",
    "For now, `ORCA` and `GPAW` are available"
   ]
  },
  {
   "cell_type": "code",
   "execution_count": 2,
   "metadata": {},
   "outputs": [],
   "source": [
    "gpaw_file = chp.File(\"example_gpaw.txt\", mode=\"GPAW\")"
   ]
  },
  {
   "cell_type": "code",
   "execution_count": 3,
   "metadata": {},
   "outputs": [
    {
     "data": {
      "text/html": [
       "<div>\n",
       "<style scoped>\n",
       "    .dataframe tbody tr th:only-of-type {\n",
       "        vertical-align: middle;\n",
       "    }\n",
       "\n",
       "    .dataframe tbody tr th {\n",
       "        vertical-align: top;\n",
       "    }\n",
       "\n",
       "    .dataframe thead th {\n",
       "        text-align: right;\n",
       "    }\n",
       "</style>\n",
       "<table border=\"1\" class=\"dataframe\">\n",
       "  <thead>\n",
       "    <tr style=\"text-align: right;\">\n",
       "      <th></th>\n",
       "      <th>Type</th>\n",
       "      <th>Subtype</th>\n",
       "      <th>Element</th>\n",
       "      <th>CharPosition</th>\n",
       "      <th>LinePosition</th>\n",
       "    </tr>\n",
       "  </thead>\n",
       "  <tbody>\n",
       "    <tr>\n",
       "      <th>8102423108233</th>\n",
       "      <td>Block</td>\n",
       "      <td>BlockGpawIcon</td>\n",
       "      <td>&lt;chemparse.gpaw_elements.BlockGpawIcon object ...</td>\n",
       "      <td>(1, 109)</td>\n",
       "      <td>(3, 8)</td>\n",
       "    </tr>\n",
       "    <tr>\n",
       "      <th>8102423108260</th>\n",
       "      <td>Block</td>\n",
       "      <td>BlockGpawDipole</td>\n",
       "      <td>&lt;chemparse.gpaw_elements.BlockGpawDipole objec...</td>\n",
       "      <td>(111, 166)</td>\n",
       "      <td>(11, 12)</td>\n",
       "    </tr>\n",
       "    <tr>\n",
       "      <th>8102423108257</th>\n",
       "      <td>Spacer</td>\n",
       "      <td>Spacer</td>\n",
       "      <td>&lt;chemparse.elements.Spacer object at 0x75e7e0d...</td>\n",
       "      <td>(0, 0)</td>\n",
       "      <td>(1, 2)</td>\n",
       "    </tr>\n",
       "    <tr>\n",
       "      <th>8102423108206</th>\n",
       "      <td>Spacer</td>\n",
       "      <td>Spacer</td>\n",
       "      <td>&lt;chemparse.elements.Spacer object at 0x75e7e0d...</td>\n",
       "      <td>(110, 110)</td>\n",
       "      <td>(9, 10)</td>\n",
       "    </tr>\n",
       "  </tbody>\n",
       "</table>\n",
       "</div>"
      ],
      "text/plain": [
       "                 Type          Subtype  \\\n",
       "8102423108233   Block    BlockGpawIcon   \n",
       "8102423108260   Block  BlockGpawDipole   \n",
       "8102423108257  Spacer           Spacer   \n",
       "8102423108206  Spacer           Spacer   \n",
       "\n",
       "                                                         Element CharPosition  \\\n",
       "8102423108233  <chemparse.gpaw_elements.BlockGpawIcon object ...     (1, 109)   \n",
       "8102423108260  <chemparse.gpaw_elements.BlockGpawDipole objec...   (111, 166)   \n",
       "8102423108257  <chemparse.elements.Spacer object at 0x75e7e0d...       (0, 0)   \n",
       "8102423108206  <chemparse.elements.Spacer object at 0x75e7e0d...   (110, 110)   \n",
       "\n",
       "              LinePosition  \n",
       "8102423108233       (3, 8)  \n",
       "8102423108260     (11, 12)  \n",
       "8102423108257       (1, 2)  \n",
       "8102423108206      (9, 10)  "
      ]
     },
     "execution_count": 3,
     "metadata": {},
     "output_type": "execute_result"
    }
   ],
   "source": [
    "gpaw_file.get_blocks()"
   ]
  },
  {
   "cell_type": "markdown",
   "metadata": {},
   "source": [
    "Scripts support `mode` as well"
   ]
  },
  {
   "cell_type": "code",
   "execution_count": 4,
   "metadata": {},
   "outputs": [
    {
     "name": "stdout",
     "output_type": "stream",
     "text": [
      "/bin/bash: line 1: orca_to_html: command not found\n"
     ]
    }
   ],
   "source": [
    "! orca_to_html example_gpaw.txt example_gpaw.html --mode GPAW"
   ]
  },
  {
   "cell_type": "markdown",
   "metadata": {},
   "source": [
    "Available blocks are stores as"
   ]
  },
  {
   "cell_type": "code",
   "execution_count": 5,
   "metadata": {},
   "outputs": [
    {
     "data": {
      "text/plain": [
       "{'BlockGpawIcon': chemparse.gpaw_elements.BlockGpawIcon,\n",
       " 'BlockGpawDipole': chemparse.gpaw_elements.BlockGpawDipole,\n",
       " 'BlockGpawEnergyContributions': chemparse.gpaw_elements.BlockGpawEnergyContributions,\n",
       " 'BlockGpawConvergedAfter': chemparse.gpaw_elements.BlockGpawConvergedAfter}"
      ]
     },
     "execution_count": 5,
     "metadata": {},
     "output_type": "execute_result"
    }
   ],
   "source": [
    "chp.gpaw_elements.AvailableBlocksGpaw.blocks"
   ]
  }
 ],
 "metadata": {
  "kernelspec": {
   "display_name": "orcaparse-JPddDQYw-py3.10",
   "language": "python",
   "name": "python3"
  },
  "language_info": {
   "codemirror_mode": {
    "name": "ipython",
    "version": 3
   },
   "file_extension": ".py",
   "mimetype": "text/x-python",
   "name": "python",
   "nbconvert_exporter": "python",
   "pygments_lexer": "ipython3",
   "version": "3.10.12"
  }
 },
 "nbformat": 4,
 "nbformat_minor": 2
}
