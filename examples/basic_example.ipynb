{
 "cells": [
  {
   "cell_type": "code",
   "execution_count": 1,
   "metadata": {},
   "outputs": [],
   "source": [
    "import orcaparse as op\n",
    "from IPython.display import HTML"
   ]
  },
  {
   "cell_type": "markdown",
   "metadata": {},
   "source": [
    "The main class is File"
   ]
  },
  {
   "cell_type": "code",
   "execution_count": 2,
   "metadata": {},
   "outputs": [
    {
     "data": {
      "text/plain": [
       "<orcaparse.file.File at 0x7e81645aedd0>"
      ]
     },
     "metadata": {},
     "output_type": "display_data"
    }
   ],
   "source": [
    "orca_file = op.File(\"example.out\")\n",
    "display(orca_file)"
   ]
  },
  {
   "cell_type": "markdown",
   "metadata": {},
   "source": [
    "You can convert orca output to HTML"
   ]
  },
  {
   "cell_type": "markdown",
   "metadata": {},
   "source": [
    "It is better not to insert ccs and js for jupyter view"
   ]
  },
  {
   "cell_type": "code",
   "execution_count": 3,
   "metadata": {},
   "outputs": [
    {
     "data": {
      "text/html": [
       "<!DOCTYPE html>\n",
       "<html lang=\"en\">\n",
       "<head>\n",
       "    <meta charset=\"UTF-8\">\n",
       "    <meta name=\"viewport\" content=\"width=device-width, initial-scale=1.0\">\n",
       "    <title>ORCA</title>\n",
       "</head>\n",
       "<body>\n",
       "    <div class=\"container\">\n",
       "        <div class=\"sidebar\">\n",
       "            <!-- Left sidebar content (TOC) -->\n",
       "            <div class=\"toc\">\n",
       "    <!-- JavaScript will populate this area -->\n",
       "</div>        </div>\n",
       "        <div class=\"comment-sidebar\">\n",
       "            <!-- comment sidebar for color-comment sections -->\n",
       "            <!-- JavaScript will populate this area -->\n",
       "        </div>\n",
       "        <div class=\"content\">\n",
       "            <div class=\"element\" python-class-name=\"Spacer\" is-block=\"False\"><pre></pre></div>\n",
       "<div class=\"element block\" python-class-name=\"BlockUnknown\" readable-name=\"My start of the message messag...\" start-line=2 finish-line=3 data_available=False><div class=\"data\"><pre>My start of the message: message1\n",
       "message2</pre></div></div><hr class = \"hr-between-blocks\"></hr>\n",
       "<div class=\"element\" python-class-name=\"Spacer\" is-block=\"False\"><pre></pre></div>\n",
       "<div class=\"element block\" python-class-name=\"BlockUnrecognizedWithHeader\" readable-name=\"My data\" start-line=5 finish-line=10 data_available=False><div class=\"header\"><h6><pre>--------------------\n",
       "My data\n",
       "--------------------\n",
       "</pre></h6></div><hr class=\"hr-in-block\"></hr><div class=\"data\"><pre> \n",
       "My value: 1.234 eV\n",
       "</pre></div></div><hr class = \"hr-between-blocks\"></hr>\n",
       "<div class=\"element block\" python-class-name=\"BlockUnrecognizedWithHeader\" readable-name=\"Another data\" start-line=11 finish-line=16 data_available=False><div class=\"header\"><h6><pre>                            ***************************************\n",
       "                            *            Another data             *\n",
       "                            ***************************************\n",
       "</pre></h6></div><hr class=\"hr-in-block\"></hr><div class=\"data\"><pre>Not my match\n",
       "My value: 9.876 eV\n",
       "</pre></div></div><hr class = \"hr-between-blocks\"></hr>\n",
       "<div class=\"element block\" python-class-name=\"BlockFinalSinglePointEnergy\" readable-name=\"FINAL SINGLE POINT ENERGY\" start-line=17 finish-line=19 data_available=True><div class=\"data\"><pre>-------------------------   --------------------\n",
       "FINAL SINGLE POINT ENERGY      -440.508559636589\n",
       "-------------------------   --------------------</pre></div></div><hr class = \"hr-between-blocks\"></hr>\n",
       "<div class=\"element\" python-class-name=\"Spacer\" is-block=\"False\"><pre>\n",
       "</pre></div><div class=\"element\" python-class-name=\"Spacer\" is-block=\"False\"><pre></pre></div>\n",
       "<div class=\"element block\" python-class-name=\"BlockTerminatedNormally\" readable-name=\"ORCA TERMINATED NORMALLY\" start-line=22 finish-line=22 data_available=True><div class=\"data\"><pre>                             ****ORCA TERMINATED NORMALLY****</pre></div></div><hr class = \"hr-between-blocks\"></hr>\n",
       "<div class=\"element block\" python-class-name=\"BlockTotalRunTime\" readable-name=\"TOTAL RUN TIME\" start-line=23 finish-line=23 data_available=True><div class=\"data\"><pre>TOTAL RUN TIME: 0 days 0 hours 0 minutes 26 seconds 139 msec</pre></div></div><hr class = \"hr-between-blocks\"></hr>\n",
       "        </div>\n",
       "    </div>\n",
       "</body>\n",
       "</html>"
      ],
      "text/plain": [
       "<IPython.core.display.HTML object>"
      ]
     },
     "execution_count": 3,
     "metadata": {},
     "output_type": "execute_result"
    }
   ],
   "source": [
    "HTML(orca_file.create_html(insert_css=False, insert_js=False))"
   ]
  },
  {
   "cell_type": "markdown",
   "metadata": {},
   "source": [
    "CSS and JS can give way more information"
   ]
  },
  {
   "cell_type": "code",
   "execution_count": 4,
   "metadata": {},
   "outputs": [],
   "source": [
    "orca_file.save_as_html(\"example.html\", insert_css=True, insert_js=True)"
   ]
  },
  {
   "cell_type": "markdown",
   "metadata": {},
   "source": [
    "Let's look at the blocks in the file"
   ]
  },
  {
   "cell_type": "markdown",
   "metadata": {},
   "source": [
    "Position stands for the begging and final lines of the block. Positions of the spacers are not identified"
   ]
  },
  {
   "cell_type": "code",
   "execution_count": 5,
   "metadata": {},
   "outputs": [
    {
     "data": {
      "text/html": [
       "<div>\n",
       "<style scoped>\n",
       "    .dataframe tbody tr th:only-of-type {\n",
       "        vertical-align: middle;\n",
       "    }\n",
       "\n",
       "    .dataframe tbody tr th {\n",
       "        vertical-align: top;\n",
       "    }\n",
       "\n",
       "    .dataframe thead th {\n",
       "        text-align: right;\n",
       "    }\n",
       "</style>\n",
       "<table border=\"1\" class=\"dataframe\">\n",
       "  <thead>\n",
       "    <tr style=\"text-align: right;\">\n",
       "      <th></th>\n",
       "      <th>Type</th>\n",
       "      <th>Subtype</th>\n",
       "      <th>Element</th>\n",
       "      <th>Position</th>\n",
       "    </tr>\n",
       "  </thead>\n",
       "  <tbody>\n",
       "    <tr>\n",
       "      <th>8693387472815</th>\n",
       "      <td>Block</td>\n",
       "      <td>BlockFinalSinglePointEnergy</td>\n",
       "      <td>&lt;orcaparse.elements.BlockFinalSinglePointEnerg...</td>\n",
       "      <td>(17, 19)</td>\n",
       "    </tr>\n",
       "    <tr>\n",
       "      <th>8693387380124</th>\n",
       "      <td>Block</td>\n",
       "      <td>BlockTerminatedNormally</td>\n",
       "      <td>&lt;orcaparse.elements.BlockTerminatedNormally ob...</td>\n",
       "      <td>(22, 22)</td>\n",
       "    </tr>\n",
       "    <tr>\n",
       "      <th>8693387486034</th>\n",
       "      <td>Block</td>\n",
       "      <td>BlockTotalRunTime</td>\n",
       "      <td>&lt;orcaparse.elements.BlockTotalRunTime object a...</td>\n",
       "      <td>(23, 23)</td>\n",
       "    </tr>\n",
       "    <tr>\n",
       "      <th>8693387485353</th>\n",
       "      <td>Block</td>\n",
       "      <td>BlockUnrecognizedWithHeader</td>\n",
       "      <td>&lt;orcaparse.elements.BlockUnrecognizedWithHeade...</td>\n",
       "      <td>(5, 10)</td>\n",
       "    </tr>\n",
       "    <tr>\n",
       "      <th>8693387485905</th>\n",
       "      <td>Block</td>\n",
       "      <td>BlockUnrecognizedWithHeader</td>\n",
       "      <td>&lt;orcaparse.elements.BlockUnrecognizedWithHeade...</td>\n",
       "      <td>(11, 16)</td>\n",
       "    </tr>\n",
       "    <tr>\n",
       "      <th>8693387485341</th>\n",
       "      <td>Block</td>\n",
       "      <td>BlockUnknown</td>\n",
       "      <td>&lt;orcaparse.elements.BlockUnknown object at 0x7...</td>\n",
       "      <td>(2, 3)</td>\n",
       "    </tr>\n",
       "    <tr>\n",
       "      <th>8693387485272</th>\n",
       "      <td>Spacer</td>\n",
       "      <td>Spacer</td>\n",
       "      <td>&lt;orcaparse.elements.Spacer object at 0x7e81645...</td>\n",
       "      <td>None</td>\n",
       "    </tr>\n",
       "    <tr>\n",
       "      <th>8693387486079</th>\n",
       "      <td>Spacer</td>\n",
       "      <td>Spacer</td>\n",
       "      <td>&lt;orcaparse.elements.Spacer object at 0x7e81645...</td>\n",
       "      <td>None</td>\n",
       "    </tr>\n",
       "    <tr>\n",
       "      <th>8693387485257</th>\n",
       "      <td>Spacer</td>\n",
       "      <td>Spacer</td>\n",
       "      <td>&lt;orcaparse.elements.Spacer object at 0x7e81645...</td>\n",
       "      <td>None</td>\n",
       "    </tr>\n",
       "    <tr>\n",
       "      <th>8693387485695</th>\n",
       "      <td>Spacer</td>\n",
       "      <td>Spacer</td>\n",
       "      <td>&lt;orcaparse.elements.Spacer object at 0x7e81645...</td>\n",
       "      <td>None</td>\n",
       "    </tr>\n",
       "  </tbody>\n",
       "</table>\n",
       "</div>"
      ],
      "text/plain": [
       "                 Type                      Subtype  \\\n",
       "8693387472815   Block  BlockFinalSinglePointEnergy   \n",
       "8693387380124   Block      BlockTerminatedNormally   \n",
       "8693387486034   Block            BlockTotalRunTime   \n",
       "8693387485353   Block  BlockUnrecognizedWithHeader   \n",
       "8693387485905   Block  BlockUnrecognizedWithHeader   \n",
       "8693387485341   Block                 BlockUnknown   \n",
       "8693387485272  Spacer                       Spacer   \n",
       "8693387486079  Spacer                       Spacer   \n",
       "8693387485257  Spacer                       Spacer   \n",
       "8693387485695  Spacer                       Spacer   \n",
       "\n",
       "                                                         Element  Position  \n",
       "8693387472815  <orcaparse.elements.BlockFinalSinglePointEnerg...  (17, 19)  \n",
       "8693387380124  <orcaparse.elements.BlockTerminatedNormally ob...  (22, 22)  \n",
       "8693387486034  <orcaparse.elements.BlockTotalRunTime object a...  (23, 23)  \n",
       "8693387485353  <orcaparse.elements.BlockUnrecognizedWithHeade...   (5, 10)  \n",
       "8693387485905  <orcaparse.elements.BlockUnrecognizedWithHeade...  (11, 16)  \n",
       "8693387485341  <orcaparse.elements.BlockUnknown object at 0x7...    (2, 3)  \n",
       "8693387485272  <orcaparse.elements.Spacer object at 0x7e81645...      None  \n",
       "8693387486079  <orcaparse.elements.Spacer object at 0x7e81645...      None  \n",
       "8693387485257  <orcaparse.elements.Spacer object at 0x7e81645...      None  \n",
       "8693387485695  <orcaparse.elements.Spacer object at 0x7e81645...      None  "
      ]
     },
     "execution_count": 5,
     "metadata": {},
     "output_type": "execute_result"
    }
   ],
   "source": [
    "orca_file.get_blocks()"
   ]
  },
  {
   "cell_type": "markdown",
   "metadata": {},
   "source": [
    "Let's extract the raw data. `get_data` returns pandas DataFrame"
   ]
  },
  {
   "cell_type": "code",
   "execution_count": 6,
   "metadata": {},
   "outputs": [
    {
     "data": {
      "text/html": [
       "<div>\n",
       "<style scoped>\n",
       "    .dataframe tbody tr th:only-of-type {\n",
       "        vertical-align: middle;\n",
       "    }\n",
       "\n",
       "    .dataframe tbody tr th {\n",
       "        vertical-align: top;\n",
       "    }\n",
       "\n",
       "    .dataframe thead th {\n",
       "        text-align: right;\n",
       "    }\n",
       "</style>\n",
       "<table border=\"1\" class=\"dataframe\">\n",
       "  <thead>\n",
       "    <tr style=\"text-align: right;\">\n",
       "      <th></th>\n",
       "      <th>Type</th>\n",
       "      <th>Subtype</th>\n",
       "      <th>Element</th>\n",
       "      <th>Position</th>\n",
       "      <th>ReadableName</th>\n",
       "      <th>RawData</th>\n",
       "    </tr>\n",
       "  </thead>\n",
       "  <tbody>\n",
       "    <tr>\n",
       "      <th>8693387472815</th>\n",
       "      <td>Block</td>\n",
       "      <td>BlockFinalSinglePointEnergy</td>\n",
       "      <td>&lt;orcaparse.elements.BlockFinalSinglePointEnerg...</td>\n",
       "      <td>(17, 19)</td>\n",
       "      <td>FINAL SINGLE POINT ENERGY</td>\n",
       "      <td>-------------------------   ------------------...</td>\n",
       "    </tr>\n",
       "    <tr>\n",
       "      <th>8693387380124</th>\n",
       "      <td>Block</td>\n",
       "      <td>BlockTerminatedNormally</td>\n",
       "      <td>&lt;orcaparse.elements.BlockTerminatedNormally ob...</td>\n",
       "      <td>(22, 22)</td>\n",
       "      <td>ORCA TERMINATED NORMALLY</td>\n",
       "      <td>****ORCA TERMINAT...</td>\n",
       "    </tr>\n",
       "    <tr>\n",
       "      <th>8693387486034</th>\n",
       "      <td>Block</td>\n",
       "      <td>BlockTotalRunTime</td>\n",
       "      <td>&lt;orcaparse.elements.BlockTotalRunTime object a...</td>\n",
       "      <td>(23, 23)</td>\n",
       "      <td>TOTAL RUN TIME</td>\n",
       "      <td>TOTAL RUN TIME: 0 days 0 hours 0 minutes 26 se...</td>\n",
       "    </tr>\n",
       "    <tr>\n",
       "      <th>8693387485353</th>\n",
       "      <td>Block</td>\n",
       "      <td>BlockUnrecognizedWithHeader</td>\n",
       "      <td>&lt;orcaparse.elements.BlockUnrecognizedWithHeade...</td>\n",
       "      <td>(5, 10)</td>\n",
       "      <td>My data</td>\n",
       "      <td>--------------------\\nMy data\\n---------------...</td>\n",
       "    </tr>\n",
       "    <tr>\n",
       "      <th>8693387485905</th>\n",
       "      <td>Block</td>\n",
       "      <td>BlockUnrecognizedWithHeader</td>\n",
       "      <td>&lt;orcaparse.elements.BlockUnrecognizedWithHeade...</td>\n",
       "      <td>(11, 16)</td>\n",
       "      <td>Another data</td>\n",
       "      <td>******************...</td>\n",
       "    </tr>\n",
       "    <tr>\n",
       "      <th>8693387485341</th>\n",
       "      <td>Block</td>\n",
       "      <td>BlockUnknown</td>\n",
       "      <td>&lt;orcaparse.elements.BlockUnknown object at 0x7...</td>\n",
       "      <td>(2, 3)</td>\n",
       "      <td>My start of the message messag...</td>\n",
       "      <td>My start of the message: message1\\nmessage2</td>\n",
       "    </tr>\n",
       "    <tr>\n",
       "      <th>8693387485272</th>\n",
       "      <td>Spacer</td>\n",
       "      <td>Spacer</td>\n",
       "      <td>&lt;orcaparse.elements.Spacer object at 0x7e81645...</td>\n",
       "      <td>None</td>\n",
       "      <td>None</td>\n",
       "      <td></td>\n",
       "    </tr>\n",
       "    <tr>\n",
       "      <th>8693387486079</th>\n",
       "      <td>Spacer</td>\n",
       "      <td>Spacer</td>\n",
       "      <td>&lt;orcaparse.elements.Spacer object at 0x7e81645...</td>\n",
       "      <td>None</td>\n",
       "      <td>None</td>\n",
       "      <td></td>\n",
       "    </tr>\n",
       "    <tr>\n",
       "      <th>8693387485257</th>\n",
       "      <td>Spacer</td>\n",
       "      <td>Spacer</td>\n",
       "      <td>&lt;orcaparse.elements.Spacer object at 0x7e81645...</td>\n",
       "      <td>None</td>\n",
       "      <td>None</td>\n",
       "      <td>\\n</td>\n",
       "    </tr>\n",
       "    <tr>\n",
       "      <th>8693387485695</th>\n",
       "      <td>Spacer</td>\n",
       "      <td>Spacer</td>\n",
       "      <td>&lt;orcaparse.elements.Spacer object at 0x7e81645...</td>\n",
       "      <td>None</td>\n",
       "      <td>None</td>\n",
       "      <td></td>\n",
       "    </tr>\n",
       "  </tbody>\n",
       "</table>\n",
       "</div>"
      ],
      "text/plain": [
       "                 Type                      Subtype  \\\n",
       "8693387472815   Block  BlockFinalSinglePointEnergy   \n",
       "8693387380124   Block      BlockTerminatedNormally   \n",
       "8693387486034   Block            BlockTotalRunTime   \n",
       "8693387485353   Block  BlockUnrecognizedWithHeader   \n",
       "8693387485905   Block  BlockUnrecognizedWithHeader   \n",
       "8693387485341   Block                 BlockUnknown   \n",
       "8693387485272  Spacer                       Spacer   \n",
       "8693387486079  Spacer                       Spacer   \n",
       "8693387485257  Spacer                       Spacer   \n",
       "8693387485695  Spacer                       Spacer   \n",
       "\n",
       "                                                         Element  Position  \\\n",
       "8693387472815  <orcaparse.elements.BlockFinalSinglePointEnerg...  (17, 19)   \n",
       "8693387380124  <orcaparse.elements.BlockTerminatedNormally ob...  (22, 22)   \n",
       "8693387486034  <orcaparse.elements.BlockTotalRunTime object a...  (23, 23)   \n",
       "8693387485353  <orcaparse.elements.BlockUnrecognizedWithHeade...   (5, 10)   \n",
       "8693387485905  <orcaparse.elements.BlockUnrecognizedWithHeade...  (11, 16)   \n",
       "8693387485341  <orcaparse.elements.BlockUnknown object at 0x7...    (2, 3)   \n",
       "8693387485272  <orcaparse.elements.Spacer object at 0x7e81645...      None   \n",
       "8693387486079  <orcaparse.elements.Spacer object at 0x7e81645...      None   \n",
       "8693387485257  <orcaparse.elements.Spacer object at 0x7e81645...      None   \n",
       "8693387485695  <orcaparse.elements.Spacer object at 0x7e81645...      None   \n",
       "\n",
       "                                    ReadableName  \\\n",
       "8693387472815          FINAL SINGLE POINT ENERGY   \n",
       "8693387380124           ORCA TERMINATED NORMALLY   \n",
       "8693387486034                     TOTAL RUN TIME   \n",
       "8693387485353                            My data   \n",
       "8693387485905                       Another data   \n",
       "8693387485341  My start of the message messag...   \n",
       "8693387485272                               None   \n",
       "8693387486079                               None   \n",
       "8693387485257                               None   \n",
       "8693387485695                               None   \n",
       "\n",
       "                                                         RawData  \n",
       "8693387472815  -------------------------   ------------------...  \n",
       "8693387380124                               ****ORCA TERMINAT...  \n",
       "8693387486034  TOTAL RUN TIME: 0 days 0 hours 0 minutes 26 se...  \n",
       "8693387485353  --------------------\\nMy data\\n---------------...  \n",
       "8693387485905                              ******************...  \n",
       "8693387485341        My start of the message: message1\\nmessage2  \n",
       "8693387485272                                                     \n",
       "8693387486079                                                     \n",
       "8693387485257                                                 \\n  \n",
       "8693387485695                                                     "
      ]
     },
     "execution_count": 6,
     "metadata": {},
     "output_type": "execute_result"
    }
   ],
   "source": [
    "orca_file.get_data(extract_only_raw=True)"
   ]
  },
  {
   "cell_type": "markdown",
   "metadata": {},
   "source": [
    "Let's extract the processed data"
   ]
  },
  {
   "cell_type": "markdown",
   "metadata": {},
   "source": [
    "You will get warnings about the unrecognized blocks. ExtractedData type is None or orcaparser.data.Data"
   ]
  },
  {
   "cell_type": "code",
   "execution_count": 7,
   "metadata": {},
   "outputs": [
    {
     "name": "stderr",
     "output_type": "stream",
     "text": [
      "/home/ivan/Projects/OrcaParse/orcaparse/elements.py:34: UserWarning: No procedure for analyzing the data found in type `<class 'orcaparse.elements.BlockUnrecognizedWithHeader'>`,returning the raw data:\n",
      "--------------------\n",
      "My data\n",
      "--------------------\n",
      " \n",
      "My value: 1.234 eV\n",
      "\n",
      "  warnings.warn(\n",
      "/home/ivan/Projects/OrcaParse/orcaparse/elements.py:34: UserWarning: No procedure for analyzing the data found in type `<class 'orcaparse.elements.BlockUnrecognizedWithHeader'>`,returning the raw data:\n",
      "                            ***************************************\n",
      "                            *            Another data             *\n",
      "                            ***************************************\n",
      "Not my match\n",
      "My value: 9.876 eV\n",
      "\n",
      "  warnings.warn(\n",
      "/home/ivan/Projects/OrcaParse/orcaparse/elements.py:229: UserWarning: The block looks not structured. Please contribute to the project if you have knowledge on how to extract data from it.\n",
      "  warnings.warn(\n"
     ]
    },
    {
     "data": {
      "text/html": [
       "<div>\n",
       "<style scoped>\n",
       "    .dataframe tbody tr th:only-of-type {\n",
       "        vertical-align: middle;\n",
       "    }\n",
       "\n",
       "    .dataframe tbody tr th {\n",
       "        vertical-align: top;\n",
       "    }\n",
       "\n",
       "    .dataframe thead th {\n",
       "        text-align: right;\n",
       "    }\n",
       "</style>\n",
       "<table border=\"1\" class=\"dataframe\">\n",
       "  <thead>\n",
       "    <tr style=\"text-align: right;\">\n",
       "      <th></th>\n",
       "      <th>Type</th>\n",
       "      <th>Subtype</th>\n",
       "      <th>Element</th>\n",
       "      <th>Position</th>\n",
       "      <th>ReadableName</th>\n",
       "      <th>RawData</th>\n",
       "      <th>ExtractedData</th>\n",
       "    </tr>\n",
       "  </thead>\n",
       "  <tbody>\n",
       "    <tr>\n",
       "      <th>8693387472815</th>\n",
       "      <td>Block</td>\n",
       "      <td>BlockFinalSinglePointEnergy</td>\n",
       "      <td>&lt;orcaparse.elements.BlockFinalSinglePointEnerg...</td>\n",
       "      <td>(17, 19)</td>\n",
       "      <td>FINAL SINGLE POINT ENERGY</td>\n",
       "      <td>-------------------------   ------------------...</td>\n",
       "      <td>[Energy]</td>\n",
       "    </tr>\n",
       "    <tr>\n",
       "      <th>8693387380124</th>\n",
       "      <td>Block</td>\n",
       "      <td>BlockTerminatedNormally</td>\n",
       "      <td>&lt;orcaparse.elements.BlockTerminatedNormally ob...</td>\n",
       "      <td>(22, 22)</td>\n",
       "      <td>ORCA TERMINATED NORMALLY</td>\n",
       "      <td>****ORCA TERMINAT...</td>\n",
       "      <td>[Termination status]</td>\n",
       "    </tr>\n",
       "    <tr>\n",
       "      <th>8693387486034</th>\n",
       "      <td>Block</td>\n",
       "      <td>BlockTotalRunTime</td>\n",
       "      <td>&lt;orcaparse.elements.BlockTotalRunTime object a...</td>\n",
       "      <td>(23, 23)</td>\n",
       "      <td>TOTAL RUN TIME</td>\n",
       "      <td>TOTAL RUN TIME: 0 days 0 hours 0 minutes 26 se...</td>\n",
       "      <td>[Run Time]</td>\n",
       "    </tr>\n",
       "    <tr>\n",
       "      <th>8693387485353</th>\n",
       "      <td>Block</td>\n",
       "      <td>BlockUnrecognizedWithHeader</td>\n",
       "      <td>&lt;orcaparse.elements.BlockUnrecognizedWithHeade...</td>\n",
       "      <td>(5, 10)</td>\n",
       "      <td>My data</td>\n",
       "      <td>--------------------\\nMy data\\n---------------...</td>\n",
       "      <td>[raw data]</td>\n",
       "    </tr>\n",
       "    <tr>\n",
       "      <th>8693387485905</th>\n",
       "      <td>Block</td>\n",
       "      <td>BlockUnrecognizedWithHeader</td>\n",
       "      <td>&lt;orcaparse.elements.BlockUnrecognizedWithHeade...</td>\n",
       "      <td>(11, 16)</td>\n",
       "      <td>Another data</td>\n",
       "      <td>******************...</td>\n",
       "      <td>[raw data]</td>\n",
       "    </tr>\n",
       "    <tr>\n",
       "      <th>8693387485341</th>\n",
       "      <td>Block</td>\n",
       "      <td>BlockUnknown</td>\n",
       "      <td>&lt;orcaparse.elements.BlockUnknown object at 0x7...</td>\n",
       "      <td>(2, 3)</td>\n",
       "      <td>My start of the message messag...</td>\n",
       "      <td>My start of the message: message1\\nmessage2</td>\n",
       "      <td>[raw data]</td>\n",
       "    </tr>\n",
       "    <tr>\n",
       "      <th>8693387485272</th>\n",
       "      <td>Spacer</td>\n",
       "      <td>Spacer</td>\n",
       "      <td>&lt;orcaparse.elements.Spacer object at 0x7e81645...</td>\n",
       "      <td>None</td>\n",
       "      <td>None</td>\n",
       "      <td></td>\n",
       "      <td>None</td>\n",
       "    </tr>\n",
       "    <tr>\n",
       "      <th>8693387486079</th>\n",
       "      <td>Spacer</td>\n",
       "      <td>Spacer</td>\n",
       "      <td>&lt;orcaparse.elements.Spacer object at 0x7e81645...</td>\n",
       "      <td>None</td>\n",
       "      <td>None</td>\n",
       "      <td></td>\n",
       "      <td>None</td>\n",
       "    </tr>\n",
       "    <tr>\n",
       "      <th>8693387485257</th>\n",
       "      <td>Spacer</td>\n",
       "      <td>Spacer</td>\n",
       "      <td>&lt;orcaparse.elements.Spacer object at 0x7e81645...</td>\n",
       "      <td>None</td>\n",
       "      <td>None</td>\n",
       "      <td>\\n</td>\n",
       "      <td>None</td>\n",
       "    </tr>\n",
       "    <tr>\n",
       "      <th>8693387485695</th>\n",
       "      <td>Spacer</td>\n",
       "      <td>Spacer</td>\n",
       "      <td>&lt;orcaparse.elements.Spacer object at 0x7e81645...</td>\n",
       "      <td>None</td>\n",
       "      <td>None</td>\n",
       "      <td></td>\n",
       "      <td>None</td>\n",
       "    </tr>\n",
       "  </tbody>\n",
       "</table>\n",
       "</div>"
      ],
      "text/plain": [
       "                 Type                      Subtype  \\\n",
       "8693387472815   Block  BlockFinalSinglePointEnergy   \n",
       "8693387380124   Block      BlockTerminatedNormally   \n",
       "8693387486034   Block            BlockTotalRunTime   \n",
       "8693387485353   Block  BlockUnrecognizedWithHeader   \n",
       "8693387485905   Block  BlockUnrecognizedWithHeader   \n",
       "8693387485341   Block                 BlockUnknown   \n",
       "8693387485272  Spacer                       Spacer   \n",
       "8693387486079  Spacer                       Spacer   \n",
       "8693387485257  Spacer                       Spacer   \n",
       "8693387485695  Spacer                       Spacer   \n",
       "\n",
       "                                                         Element  Position  \\\n",
       "8693387472815  <orcaparse.elements.BlockFinalSinglePointEnerg...  (17, 19)   \n",
       "8693387380124  <orcaparse.elements.BlockTerminatedNormally ob...  (22, 22)   \n",
       "8693387486034  <orcaparse.elements.BlockTotalRunTime object a...  (23, 23)   \n",
       "8693387485353  <orcaparse.elements.BlockUnrecognizedWithHeade...   (5, 10)   \n",
       "8693387485905  <orcaparse.elements.BlockUnrecognizedWithHeade...  (11, 16)   \n",
       "8693387485341  <orcaparse.elements.BlockUnknown object at 0x7...    (2, 3)   \n",
       "8693387485272  <orcaparse.elements.Spacer object at 0x7e81645...      None   \n",
       "8693387486079  <orcaparse.elements.Spacer object at 0x7e81645...      None   \n",
       "8693387485257  <orcaparse.elements.Spacer object at 0x7e81645...      None   \n",
       "8693387485695  <orcaparse.elements.Spacer object at 0x7e81645...      None   \n",
       "\n",
       "                                    ReadableName  \\\n",
       "8693387472815          FINAL SINGLE POINT ENERGY   \n",
       "8693387380124           ORCA TERMINATED NORMALLY   \n",
       "8693387486034                     TOTAL RUN TIME   \n",
       "8693387485353                            My data   \n",
       "8693387485905                       Another data   \n",
       "8693387485341  My start of the message messag...   \n",
       "8693387485272                               None   \n",
       "8693387486079                               None   \n",
       "8693387485257                               None   \n",
       "8693387485695                               None   \n",
       "\n",
       "                                                         RawData  \\\n",
       "8693387472815  -------------------------   ------------------...   \n",
       "8693387380124                               ****ORCA TERMINAT...   \n",
       "8693387486034  TOTAL RUN TIME: 0 days 0 hours 0 minutes 26 se...   \n",
       "8693387485353  --------------------\\nMy data\\n---------------...   \n",
       "8693387485905                              ******************...   \n",
       "8693387485341        My start of the message: message1\\nmessage2   \n",
       "8693387485272                                                      \n",
       "8693387486079                                                      \n",
       "8693387485257                                                 \\n   \n",
       "8693387485695                                                      \n",
       "\n",
       "                      ExtractedData  \n",
       "8693387472815              [Energy]  \n",
       "8693387380124  [Termination status]  \n",
       "8693387486034            [Run Time]  \n",
       "8693387485353            [raw data]  \n",
       "8693387485905            [raw data]  \n",
       "8693387485341            [raw data]  \n",
       "8693387485272                  None  \n",
       "8693387486079                  None  \n",
       "8693387485257                  None  \n",
       "8693387485695                  None  "
      ]
     },
     "execution_count": 7,
     "metadata": {},
     "output_type": "execute_result"
    }
   ],
   "source": [
    "orca_file.get_data()"
   ]
  },
  {
   "cell_type": "markdown",
   "metadata": {},
   "source": [
    "Let's extract the specific block that has \"My value\" in it"
   ]
  },
  {
   "cell_type": "markdown",
   "metadata": {},
   "source": [
    "The same text may occur in different blocks"
   ]
  },
  {
   "cell_type": "code",
   "execution_count": 8,
   "metadata": {},
   "outputs": [
    {
     "name": "stderr",
     "output_type": "stream",
     "text": [
      "/home/ivan/Projects/OrcaParse/orcaparse/elements.py:34: UserWarning: No procedure for analyzing the data found in type `<class 'orcaparse.elements.BlockUnrecognizedWithHeader'>`,returning the raw data:\n",
      "--------------------\n",
      "My data\n",
      "--------------------\n",
      " \n",
      "My value: 1.234 eV\n",
      "\n",
      "  warnings.warn(\n",
      "/home/ivan/Projects/OrcaParse/orcaparse/elements.py:34: UserWarning: No procedure for analyzing the data found in type `<class 'orcaparse.elements.BlockUnrecognizedWithHeader'>`,returning the raw data:\n",
      "                            ***************************************\n",
      "                            *            Another data             *\n",
      "                            ***************************************\n",
      "Not my match\n",
      "My value: 9.876 eV\n",
      "\n",
      "  warnings.warn(\n"
     ]
    },
    {
     "data": {
      "text/html": [
       "<div>\n",
       "<style scoped>\n",
       "    .dataframe tbody tr th:only-of-type {\n",
       "        vertical-align: middle;\n",
       "    }\n",
       "\n",
       "    .dataframe tbody tr th {\n",
       "        vertical-align: top;\n",
       "    }\n",
       "\n",
       "    .dataframe thead th {\n",
       "        text-align: right;\n",
       "    }\n",
       "</style>\n",
       "<table border=\"1\" class=\"dataframe\">\n",
       "  <thead>\n",
       "    <tr style=\"text-align: right;\">\n",
       "      <th></th>\n",
       "      <th>Type</th>\n",
       "      <th>Subtype</th>\n",
       "      <th>Element</th>\n",
       "      <th>Position</th>\n",
       "      <th>ReadableName</th>\n",
       "      <th>RawData</th>\n",
       "      <th>ExtractedData</th>\n",
       "    </tr>\n",
       "  </thead>\n",
       "  <tbody>\n",
       "    <tr>\n",
       "      <th>8693387485353</th>\n",
       "      <td>Block</td>\n",
       "      <td>BlockUnrecognizedWithHeader</td>\n",
       "      <td>&lt;orcaparse.elements.BlockUnrecognizedWithHeade...</td>\n",
       "      <td>(5, 10)</td>\n",
       "      <td>My data</td>\n",
       "      <td>--------------------\\nMy data\\n---------------...</td>\n",
       "      <td>[raw data]</td>\n",
       "    </tr>\n",
       "    <tr>\n",
       "      <th>8693387485905</th>\n",
       "      <td>Block</td>\n",
       "      <td>BlockUnrecognizedWithHeader</td>\n",
       "      <td>&lt;orcaparse.elements.BlockUnrecognizedWithHeade...</td>\n",
       "      <td>(11, 16)</td>\n",
       "      <td>Another data</td>\n",
       "      <td>******************...</td>\n",
       "      <td>[raw data]</td>\n",
       "    </tr>\n",
       "  </tbody>\n",
       "</table>\n",
       "</div>"
      ],
      "text/plain": [
       "                Type                      Subtype  \\\n",
       "8693387485353  Block  BlockUnrecognizedWithHeader   \n",
       "8693387485905  Block  BlockUnrecognizedWithHeader   \n",
       "\n",
       "                                                         Element  Position  \\\n",
       "8693387485353  <orcaparse.elements.BlockUnrecognizedWithHeade...   (5, 10)   \n",
       "8693387485905  <orcaparse.elements.BlockUnrecognizedWithHeade...  (11, 16)   \n",
       "\n",
       "               ReadableName  \\\n",
       "8693387485353       My data   \n",
       "8693387485905  Another data   \n",
       "\n",
       "                                                         RawData ExtractedData  \n",
       "8693387485353  --------------------\\nMy data\\n---------------...    [raw data]  \n",
       "8693387485905                              ******************...    [raw data]  "
      ]
     },
     "execution_count": 8,
     "metadata": {},
     "output_type": "execute_result"
    }
   ],
   "source": [
    "orca_file.get_data(raw_data_substring=\"My value\")"
   ]
  },
  {
   "cell_type": "markdown",
   "metadata": {},
   "source": [
    "The easiest way to extract the needed data in this case is to add some other text that is present in the block"
   ]
  },
  {
   "cell_type": "code",
   "execution_count": 9,
   "metadata": {},
   "outputs": [
    {
     "name": "stderr",
     "output_type": "stream",
     "text": [
      "/home/ivan/Projects/OrcaParse/orcaparse/elements.py:34: UserWarning: No procedure for analyzing the data found in type `<class 'orcaparse.elements.BlockUnrecognizedWithHeader'>`,returning the raw data:\n",
      "--------------------\n",
      "My data\n",
      "--------------------\n",
      " \n",
      "My value: 1.234 eV\n",
      "\n",
      "  warnings.warn(\n"
     ]
    },
    {
     "data": {
      "text/html": [
       "<div>\n",
       "<style scoped>\n",
       "    .dataframe tbody tr th:only-of-type {\n",
       "        vertical-align: middle;\n",
       "    }\n",
       "\n",
       "    .dataframe tbody tr th {\n",
       "        vertical-align: top;\n",
       "    }\n",
       "\n",
       "    .dataframe thead th {\n",
       "        text-align: right;\n",
       "    }\n",
       "</style>\n",
       "<table border=\"1\" class=\"dataframe\">\n",
       "  <thead>\n",
       "    <tr style=\"text-align: right;\">\n",
       "      <th></th>\n",
       "      <th>Type</th>\n",
       "      <th>Subtype</th>\n",
       "      <th>Element</th>\n",
       "      <th>Position</th>\n",
       "      <th>ReadableName</th>\n",
       "      <th>RawData</th>\n",
       "      <th>ExtractedData</th>\n",
       "    </tr>\n",
       "  </thead>\n",
       "  <tbody>\n",
       "    <tr>\n",
       "      <th>8693387485353</th>\n",
       "      <td>Block</td>\n",
       "      <td>BlockUnrecognizedWithHeader</td>\n",
       "      <td>&lt;orcaparse.elements.BlockUnrecognizedWithHeade...</td>\n",
       "      <td>(5, 10)</td>\n",
       "      <td>My data</td>\n",
       "      <td>--------------------\\nMy data\\n---------------...</td>\n",
       "      <td>[raw data]</td>\n",
       "    </tr>\n",
       "  </tbody>\n",
       "</table>\n",
       "</div>"
      ],
      "text/plain": [
       "                Type                      Subtype  \\\n",
       "8693387485353  Block  BlockUnrecognizedWithHeader   \n",
       "\n",
       "                                                         Element Position  \\\n",
       "8693387485353  <orcaparse.elements.BlockUnrecognizedWithHeade...  (5, 10)   \n",
       "\n",
       "              ReadableName                                            RawData  \\\n",
       "8693387485353      My data  --------------------\\nMy data\\n---------------...   \n",
       "\n",
       "              ExtractedData  \n",
       "8693387485353    [raw data]  "
      ]
     },
     "execution_count": 9,
     "metadata": {},
     "output_type": "execute_result"
    }
   ],
   "source": [
    "orca_file.get_data(raw_data_substring=(\"My value\", \"My data\"))"
   ]
  },
  {
   "cell_type": "markdown",
   "metadata": {},
   "source": [
    "Or to exclude the ones that are not yours"
   ]
  },
  {
   "cell_type": "code",
   "execution_count": 10,
   "metadata": {},
   "outputs": [
    {
     "name": "stderr",
     "output_type": "stream",
     "text": [
      "/home/ivan/Projects/OrcaParse/orcaparse/elements.py:34: UserWarning: No procedure for analyzing the data found in type `<class 'orcaparse.elements.BlockUnrecognizedWithHeader'>`,returning the raw data:\n",
      "--------------------\n",
      "My data\n",
      "--------------------\n",
      " \n",
      "My value: 1.234 eV\n",
      "\n",
      "  warnings.warn(\n"
     ]
    },
    {
     "data": {
      "text/html": [
       "<div>\n",
       "<style scoped>\n",
       "    .dataframe tbody tr th:only-of-type {\n",
       "        vertical-align: middle;\n",
       "    }\n",
       "\n",
       "    .dataframe tbody tr th {\n",
       "        vertical-align: top;\n",
       "    }\n",
       "\n",
       "    .dataframe thead th {\n",
       "        text-align: right;\n",
       "    }\n",
       "</style>\n",
       "<table border=\"1\" class=\"dataframe\">\n",
       "  <thead>\n",
       "    <tr style=\"text-align: right;\">\n",
       "      <th></th>\n",
       "      <th>Type</th>\n",
       "      <th>Subtype</th>\n",
       "      <th>Element</th>\n",
       "      <th>Position</th>\n",
       "      <th>ReadableName</th>\n",
       "      <th>RawData</th>\n",
       "      <th>ExtractedData</th>\n",
       "    </tr>\n",
       "  </thead>\n",
       "  <tbody>\n",
       "    <tr>\n",
       "      <th>8693387485353</th>\n",
       "      <td>Block</td>\n",
       "      <td>BlockUnrecognizedWithHeader</td>\n",
       "      <td>&lt;orcaparse.elements.BlockUnrecognizedWithHeade...</td>\n",
       "      <td>(5, 10)</td>\n",
       "      <td>My data</td>\n",
       "      <td>--------------------\\nMy data\\n---------------...</td>\n",
       "      <td>[raw data]</td>\n",
       "    </tr>\n",
       "  </tbody>\n",
       "</table>\n",
       "</div>"
      ],
      "text/plain": [
       "                Type                      Subtype  \\\n",
       "8693387485353  Block  BlockUnrecognizedWithHeader   \n",
       "\n",
       "                                                         Element Position  \\\n",
       "8693387485353  <orcaparse.elements.BlockUnrecognizedWithHeade...  (5, 10)   \n",
       "\n",
       "              ReadableName                                            RawData  \\\n",
       "8693387485353      My data  --------------------\\nMy data\\n---------------...   \n",
       "\n",
       "              ExtractedData  \n",
       "8693387485353    [raw data]  "
      ]
     },
     "execution_count": 10,
     "metadata": {},
     "output_type": "execute_result"
    }
   ],
   "source": [
    "orca_file.get_data(raw_data_substring=\"My value\", raw_data_not_substring=\"Not my match\")"
   ]
  },
  {
   "cell_type": "markdown",
   "metadata": {},
   "source": [
    "or we can extract the one we need by the readable name (you can find it in html file TOC)"
   ]
  },
  {
   "cell_type": "code",
   "execution_count": 11,
   "metadata": {},
   "outputs": [
    {
     "name": "stderr",
     "output_type": "stream",
     "text": [
      "/home/ivan/Projects/OrcaParse/orcaparse/elements.py:34: UserWarning: No procedure for analyzing the data found in type `<class 'orcaparse.elements.BlockUnrecognizedWithHeader'>`,returning the raw data:\n",
      "--------------------\n",
      "My data\n",
      "--------------------\n",
      " \n",
      "My value: 1.234 eV\n",
      "\n",
      "  warnings.warn(\n"
     ]
    },
    {
     "data": {
      "text/html": [
       "<div>\n",
       "<style scoped>\n",
       "    .dataframe tbody tr th:only-of-type {\n",
       "        vertical-align: middle;\n",
       "    }\n",
       "\n",
       "    .dataframe tbody tr th {\n",
       "        vertical-align: top;\n",
       "    }\n",
       "\n",
       "    .dataframe thead th {\n",
       "        text-align: right;\n",
       "    }\n",
       "</style>\n",
       "<table border=\"1\" class=\"dataframe\">\n",
       "  <thead>\n",
       "    <tr style=\"text-align: right;\">\n",
       "      <th></th>\n",
       "      <th>Type</th>\n",
       "      <th>Subtype</th>\n",
       "      <th>Element</th>\n",
       "      <th>Position</th>\n",
       "      <th>ReadableName</th>\n",
       "      <th>RawData</th>\n",
       "      <th>ExtractedData</th>\n",
       "    </tr>\n",
       "  </thead>\n",
       "  <tbody>\n",
       "    <tr>\n",
       "      <th>8693387485353</th>\n",
       "      <td>Block</td>\n",
       "      <td>BlockUnrecognizedWithHeader</td>\n",
       "      <td>&lt;orcaparse.elements.BlockUnrecognizedWithHeade...</td>\n",
       "      <td>(5, 10)</td>\n",
       "      <td>My data</td>\n",
       "      <td>--------------------\\nMy data\\n---------------...</td>\n",
       "      <td>[raw data]</td>\n",
       "    </tr>\n",
       "  </tbody>\n",
       "</table>\n",
       "</div>"
      ],
      "text/plain": [
       "                Type                      Subtype  \\\n",
       "8693387485353  Block  BlockUnrecognizedWithHeader   \n",
       "\n",
       "                                                         Element Position  \\\n",
       "8693387485353  <orcaparse.elements.BlockUnrecognizedWithHeade...  (5, 10)   \n",
       "\n",
       "              ReadableName                                            RawData  \\\n",
       "8693387485353      My data  --------------------\\nMy data\\n---------------...   \n",
       "\n",
       "              ExtractedData  \n",
       "8693387485353    [raw data]  "
      ]
     },
     "execution_count": 11,
     "metadata": {},
     "output_type": "execute_result"
    }
   ],
   "source": [
    "orca_file.get_data(readable_name=\"My data\")"
   ]
  },
  {
   "cell_type": "markdown",
   "metadata": {},
   "source": [
    "You can ask for more than one parameter of search"
   ]
  },
  {
   "cell_type": "code",
   "execution_count": 12,
   "metadata": {},
   "outputs": [
    {
     "name": "stderr",
     "output_type": "stream",
     "text": [
      "/home/ivan/Projects/OrcaParse/orcaparse/elements.py:34: UserWarning: No procedure for analyzing the data found in type `<class 'orcaparse.elements.BlockUnrecognizedWithHeader'>`,returning the raw data:\n",
      "--------------------\n",
      "My data\n",
      "--------------------\n",
      " \n",
      "My value: 1.234 eV\n",
      "\n",
      "  warnings.warn(\n"
     ]
    },
    {
     "data": {
      "text/html": [
       "<div>\n",
       "<style scoped>\n",
       "    .dataframe tbody tr th:only-of-type {\n",
       "        vertical-align: middle;\n",
       "    }\n",
       "\n",
       "    .dataframe tbody tr th {\n",
       "        vertical-align: top;\n",
       "    }\n",
       "\n",
       "    .dataframe thead th {\n",
       "        text-align: right;\n",
       "    }\n",
       "</style>\n",
       "<table border=\"1\" class=\"dataframe\">\n",
       "  <thead>\n",
       "    <tr style=\"text-align: right;\">\n",
       "      <th></th>\n",
       "      <th>Type</th>\n",
       "      <th>Subtype</th>\n",
       "      <th>Element</th>\n",
       "      <th>Position</th>\n",
       "      <th>ReadableName</th>\n",
       "      <th>RawData</th>\n",
       "      <th>ExtractedData</th>\n",
       "    </tr>\n",
       "  </thead>\n",
       "  <tbody>\n",
       "    <tr>\n",
       "      <th>8693387485353</th>\n",
       "      <td>Block</td>\n",
       "      <td>BlockUnrecognizedWithHeader</td>\n",
       "      <td>&lt;orcaparse.elements.BlockUnrecognizedWithHeade...</td>\n",
       "      <td>(5, 10)</td>\n",
       "      <td>My data</td>\n",
       "      <td>--------------------\\nMy data\\n---------------...</td>\n",
       "      <td>[raw data]</td>\n",
       "    </tr>\n",
       "  </tbody>\n",
       "</table>\n",
       "</div>"
      ],
      "text/plain": [
       "                Type                      Subtype  \\\n",
       "8693387485353  Block  BlockUnrecognizedWithHeader   \n",
       "\n",
       "                                                         Element Position  \\\n",
       "8693387485353  <orcaparse.elements.BlockUnrecognizedWithHeade...  (5, 10)   \n",
       "\n",
       "              ReadableName                                            RawData  \\\n",
       "8693387485353      My data  --------------------\\nMy data\\n---------------...   \n",
       "\n",
       "              ExtractedData  \n",
       "8693387485353    [raw data]  "
      ]
     },
     "execution_count": 12,
     "metadata": {},
     "output_type": "execute_result"
    }
   ],
   "source": [
    "orca_file.get_data(raw_data_substring=(\"My value\", \"My data\"), readable_name=\"My data\")"
   ]
  },
  {
   "cell_type": "markdown",
   "metadata": {},
   "source": [
    "Lets extract the data and have a look on what it contains"
   ]
  },
  {
   "cell_type": "code",
   "execution_count": 13,
   "metadata": {},
   "outputs": [
    {
     "name": "stderr",
     "output_type": "stream",
     "text": [
      "/home/ivan/Projects/OrcaParse/orcaparse/elements.py:34: UserWarning: No procedure for analyzing the data found in type `<class 'orcaparse.elements.BlockUnrecognizedWithHeader'>`,returning the raw data:\n",
      "--------------------\n",
      "My data\n",
      "--------------------\n",
      " \n",
      "My value: 1.234 eV\n",
      "\n",
      "  warnings.warn(\n"
     ]
    }
   ],
   "source": [
    "df = orca_file.get_data(readable_name=\"My data\")"
   ]
  },
  {
   "cell_type": "code",
   "execution_count": 14,
   "metadata": {},
   "outputs": [
    {
     "name": "stdout",
     "output_type": "stream",
     "text": [
      "type(data) = <class 'orcaparse.data.Data'>\n",
      "str(data) = 'OrcaData with items: `raw data`. Comment: No procedure for analyzing the data found, `raw data` collected.\\nPlease contribute to the project if you have knowledge on how to extract data from it.'\n"
     ]
    }
   ],
   "source": [
    "data = df.iloc[0].ExtractedData\n",
    "print(f\"{type(data) = }\")\n",
    "print(f\"{str(data) = }\")"
   ]
  },
  {
   "cell_type": "markdown",
   "metadata": {},
   "source": [
    "Even though no method for the extraction was found, the data can be extracted as text"
   ]
  },
  {
   "cell_type": "code",
   "execution_count": 15,
   "metadata": {},
   "outputs": [
    {
     "data": {
      "text/plain": [
       "'--------------------\\nMy data\\n--------------------\\n \\nMy value: 1.234 eV\\n'"
      ]
     },
     "execution_count": 15,
     "metadata": {},
     "output_type": "execute_result"
    }
   ],
   "source": [
    "data[\"raw data\"]"
   ]
  },
  {
   "cell_type": "markdown",
   "metadata": {},
   "source": [
    "Lets extract the data that is known"
   ]
  },
  {
   "cell_type": "markdown",
   "metadata": {},
   "source": [
    "Time is stored as timedelta, tables as pandas Dataframes, values with units as pint Quantity"
   ]
  },
  {
   "cell_type": "code",
   "execution_count": 16,
   "metadata": {},
   "outputs": [
    {
     "name": "stdout",
     "output_type": "stream",
     "text": [
      "str(data) = 'OrcaData with items: `Run Time`. Comment: `Run Time` is timedelta object'\n",
      "data[\"Run Time\"] = datetime.timedelta(seconds=26, microseconds=139000)\n"
     ]
    }
   ],
   "source": [
    "df = orca_file.get_data(readable_name=\"TOTAL RUN TIME\")\n",
    "data = df.iloc[0].ExtractedData\n",
    "print(f\"{str(data) = }\")\n",
    "print(f'{data[\"Run Time\"] = }')"
   ]
  },
  {
   "cell_type": "code",
   "execution_count": 17,
   "metadata": {},
   "outputs": [
    {
     "name": "stdout",
     "output_type": "stream",
     "text": [
      "str(data) = 'OrcaData with items: `Energy`. Comment: `Energy` in pint format, to extract the value in Eh, use property .magnitude'\n",
      "data[\"Energy\"] = <Quantity(-440.50856, 'hartree')>\n",
      "data[\"Energy\"].magnitude = -440.508559636589\n",
      "data[\"Energy\"].units = <Unit('hartree')>\n"
     ]
    }
   ],
   "source": [
    "df = orca_file.get_data(readable_name=\"FINAL SINGLE POINT ENERGY\")\n",
    "data = df.iloc[0].ExtractedData\n",
    "print(f\"{str(data) = }\")\n",
    "print(f'{data[\"Energy\"] = }')\n",
    "print(f'{data[\"Energy\"].magnitude = }')\n",
    "print(f'{data[\"Energy\"].units = }')"
   ]
  },
  {
   "cell_type": "code",
   "execution_count": null,
   "metadata": {},
   "outputs": [],
   "source": []
  }
 ],
 "metadata": {
  "kernelspec": {
   "display_name": "orcaparse-JPddDQYw-py3.10",
   "language": "python",
   "name": "python3"
  },
  "language_info": {
   "codemirror_mode": {
    "name": "ipython",
    "version": 3
   },
   "file_extension": ".py",
   "mimetype": "text/x-python",
   "name": "python",
   "nbconvert_exporter": "python",
   "pygments_lexer": "ipython3",
   "version": "3.10.12"
  }
 },
 "nbformat": 4,
 "nbformat_minor": 2
}
