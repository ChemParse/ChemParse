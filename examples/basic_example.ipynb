{
 "cells": [
  {
   "cell_type": "code",
   "execution_count": 1,
   "metadata": {},
   "outputs": [],
   "source": [
    "import chemparse as chp\n",
    "from IPython.display import HTML"
   ]
  },
  {
   "cell_type": "markdown",
   "metadata": {},
   "source": [
    "The main class is File"
   ]
  },
  {
   "cell_type": "code",
   "execution_count": 2,
   "metadata": {},
   "outputs": [
    {
     "data": {
      "text/plain": [
       "<chemparse.file.File at 0x74eae1ff5b70>"
      ]
     },
     "metadata": {},
     "output_type": "display_data"
    }
   ],
   "source": [
    "orca_file = chp.File(\"example.out\")\n",
    "display(orca_file)"
   ]
  },
  {
   "cell_type": "markdown",
   "metadata": {},
   "source": [
    "You can convert orca output to HTML"
   ]
  },
  {
   "cell_type": "markdown",
   "metadata": {},
   "source": [
    "It is better not to insert ccs and js for jupyter view"
   ]
  },
  {
   "cell_type": "code",
   "execution_count": 3,
   "metadata": {},
   "outputs": [
    {
     "data": {
      "text/html": [
       "<!DOCTYPE html>\n",
       "<html lang=\"en\">\n",
       "<head>\n",
       "    <meta charset=\"UTF-8\">\n",
       "    <meta name=\"viewport\" content=\"width=device-width, initial-scale=1.0\">\n",
       "    <title>ORCA</title>\n",
       "</head>\n",
       "<body>\n",
       "    <div class=\"container\">\n",
       "        <div class=\"sidebar\">\n",
       "            <!-- Left sidebar content (TOC) -->\n",
       "            <div class=\"toc\">\n",
       "    <!-- JavaScript will populate this area -->\n",
       "</div>        </div>\n",
       "        <div class=\"comment-sidebar\">\n",
       "            <!-- comment sidebar for color-comment sections -->\n",
       "            <!-- JavaScript will populate this area -->\n",
       "        </div>\n",
       "        <div class=\"content\">\n",
       "            <div class=\"element\" python-class-name=\"Spacer\" start-line=1 finish-line=2 is-block=\"False\">\n",
       "<br></div><div class=\"element block\" python-class-name=\"BlockUnknown\" readable-name=\"My start of the message messag...\" start-line=3 finish-line=5 data_available=False><div class=\"data\">\n",
       "<pre>My start of the message: message1\n",
       "message2\n",
       "</pre></div></div><hr class = \"hr-between-blocks\"></hr><div class=\"element\" python-class-name=\"Spacer\" start-line=6 finish-line=7 is-block=\"False\">\n",
       "<br></div><div class=\"element block\" python-class-name=\"BlockOrcaUnrecognizedWithSingeLineHeader\" readable-name=\"My data\" start-line=6 finish-line=12 data_available=False><div class=\"header\"><h7>\n",
       "<pre>--------------------\n",
       "My data\n",
       "--------------------\n",
       "</pre></h7></div><hr class=\"hr-in-block\"></hr><div class=\"data\">\n",
       "<pre> \n",
       "My value: 1.234 eV\n",
       "\n",
       "</pre></div></div><hr class = \"hr-between-blocks\"></hr><div class=\"element block\" python-class-name=\"BlockOrcaUnrecognizedWithSingeLineHeader\" readable-name=\"Another data\" start-line=13 finish-line=19 data_available=False><div class=\"header\"><h7>\n",
       "<pre>                            ***************************************\n",
       "                            *            Another data             *\n",
       "                            ***************************************\n",
       "</pre></h7></div><hr class=\"hr-in-block\"></hr><div class=\"data\">\n",
       "<pre>Not my match\n",
       "My value: 9.876 eV\n",
       "\n",
       "</pre></div></div><hr class = \"hr-between-blocks\"></hr><div class=\"element block\" python-class-name=\"BlockOrcaFinalSinglePointEnergy\" readable-name=\"FINAL SINGLE POINT ENERGY\" start-line=18 finish-line=21 data_available=False><div class=\"data\">\n",
       "<pre>-------------------------   --------------------\n",
       "FINAL SINGLE POINT ENERGY      -440.508559636589\n",
       "-------------------------   --------------------\n",
       "</pre></div></div><hr class = \"hr-between-blocks\"></hr><div class=\"element\" python-class-name=\"Spacer\" start-line=22 finish-line=24 is-block=\"False\">\n",
       "<br><br></div><div class=\"element block\" python-class-name=\"BlockOrcaTerminatedNormally\" readable-name=\"ORCA TERMINATED NORMALLY\" start-line=23 finish-line=24 data_available=True><div class=\"data\">\n",
       "<pre>                             ****ORCA TERMINATED NORMALLY****\n",
       "</pre></div></div><hr class = \"hr-between-blocks\"></hr><div class=\"element block\" python-class-name=\"BlockOrcaTotalRunTime\" readable-name=\"TOTAL RUN TIME\" start-line=24 finish-line=25 data_available=True><div class=\"data\">\n",
       "<pre>TOTAL RUN TIME: 0 days 0 hours 0 minutes 26 seconds 139 msec\n",
       "</pre></div></div><hr class = \"hr-between-blocks\"></hr>\n",
       "        </div>\n",
       "    </div>\n",
       "</body>\n",
       "</html>"
      ],
      "text/plain": [
       "<IPython.core.display.HTML object>"
      ]
     },
     "execution_count": 3,
     "metadata": {},
     "output_type": "execute_result"
    }
   ],
   "source": [
    "HTML(orca_file.create_html(insert_css=False, insert_js=False))"
   ]
  },
  {
   "cell_type": "markdown",
   "metadata": {},
   "source": [
    "CSS and JS can give way more information"
   ]
  },
  {
   "cell_type": "code",
   "execution_count": 4,
   "metadata": {},
   "outputs": [],
   "source": [
    "orca_file.save_as_html(\"example.html\", insert_css=True, insert_js=True)"
   ]
  },
  {
   "cell_type": "markdown",
   "metadata": {},
   "source": [
    "Let's look at the blocks in the file"
   ]
  },
  {
   "cell_type": "markdown",
   "metadata": {},
   "source": [
    "Position stands for the begging and final lines of the block. Positions of the spacers are not identified"
   ]
  },
  {
   "cell_type": "code",
   "execution_count": 5,
   "metadata": {},
   "outputs": [
    {
     "data": {
      "text/html": [
       "<div>\n",
       "<style scoped>\n",
       "    .dataframe tbody tr th:only-of-type {\n",
       "        vertical-align: middle;\n",
       "    }\n",
       "\n",
       "    .dataframe tbody tr th {\n",
       "        vertical-align: top;\n",
       "    }\n",
       "\n",
       "    .dataframe thead th {\n",
       "        text-align: right;\n",
       "    }\n",
       "</style>\n",
       "<table border=\"1\" class=\"dataframe\">\n",
       "  <thead>\n",
       "    <tr style=\"text-align: right;\">\n",
       "      <th></th>\n",
       "      <th>Type</th>\n",
       "      <th>Subtype</th>\n",
       "      <th>Element</th>\n",
       "      <th>CharPosition</th>\n",
       "      <th>LinePosition</th>\n",
       "    </tr>\n",
       "  </thead>\n",
       "  <tbody>\n",
       "    <tr>\n",
       "      <th>8034613232977</th>\n",
       "      <td>Block</td>\n",
       "      <td>BlockOrcaTotalRunTime</td>\n",
       "      <td>&lt;chemparse.orca_elements.BlockOrcaTotalRunTime...</td>\n",
       "      <td>(565, 625)</td>\n",
       "      <td>(24, 25)</td>\n",
       "    </tr>\n",
       "    <tr>\n",
       "      <th>8034510173491</th>\n",
       "      <td>Block</td>\n",
       "      <td>BlockOrcaTerminatedNormally</td>\n",
       "      <td>&lt;chemparse.orca_elements.BlockOrcaTerminatedNo...</td>\n",
       "      <td>(503, 564)</td>\n",
       "      <td>(23, 24)</td>\n",
       "    </tr>\n",
       "    <tr>\n",
       "      <th>8034510173818</th>\n",
       "      <td>Block</td>\n",
       "      <td>BlockOrcaFinalSinglePointEnergy</td>\n",
       "      <td>&lt;chemparse.orca_elements.BlockOrcaFinalSingleP...</td>\n",
       "      <td>(354, 500)</td>\n",
       "      <td>(18, 21)</td>\n",
       "    </tr>\n",
       "    <tr>\n",
       "      <th>8034510173959</th>\n",
       "      <td>Block</td>\n",
       "      <td>BlockOrcaUnrecognizedWithSingeLineHeader</td>\n",
       "      <td>&lt;chemparse.orca_elements.BlockOrcaUnrecognized...</td>\n",
       "      <td>(45, 116)</td>\n",
       "      <td>(6, 12)</td>\n",
       "    </tr>\n",
       "    <tr>\n",
       "      <th>8034510173665</th>\n",
       "      <td>Block</td>\n",
       "      <td>BlockOrcaUnrecognizedWithSingeLineHeader</td>\n",
       "      <td>&lt;chemparse.orca_elements.BlockOrcaUnrecognized...</td>\n",
       "      <td>(117, 353)</td>\n",
       "      <td>(13, 19)</td>\n",
       "    </tr>\n",
       "    <tr>\n",
       "      <th>8034510173977</th>\n",
       "      <td>Spacer</td>\n",
       "      <td>Spacer</td>\n",
       "      <td>&lt;chemparse.elements.Spacer object at 0x74eae1f...</td>\n",
       "      <td>(0, 0)</td>\n",
       "      <td>(1, 2)</td>\n",
       "    </tr>\n",
       "    <tr>\n",
       "      <th>8034510173674</th>\n",
       "      <td>Spacer</td>\n",
       "      <td>Spacer</td>\n",
       "      <td>&lt;chemparse.elements.Spacer object at 0x74eae1f...</td>\n",
       "      <td>(44, 44)</td>\n",
       "      <td>(6, 7)</td>\n",
       "    </tr>\n",
       "    <tr>\n",
       "      <th>8034510173995</th>\n",
       "      <td>Spacer</td>\n",
       "      <td>Spacer</td>\n",
       "      <td>&lt;chemparse.elements.Spacer object at 0x74eae1f...</td>\n",
       "      <td>(501, 502)</td>\n",
       "      <td>(22, 24)</td>\n",
       "    </tr>\n",
       "    <tr>\n",
       "      <th>8034510173920</th>\n",
       "      <td>Block</td>\n",
       "      <td>BlockUnknown</td>\n",
       "      <td>&lt;chemparse.elements.BlockUnknown object at 0x7...</td>\n",
       "      <td>(1, 43)</td>\n",
       "      <td>(3, 5)</td>\n",
       "    </tr>\n",
       "  </tbody>\n",
       "</table>\n",
       "</div>"
      ],
      "text/plain": [
       "                 Type                                   Subtype  \\\n",
       "8034613232977   Block                     BlockOrcaTotalRunTime   \n",
       "8034510173491   Block               BlockOrcaTerminatedNormally   \n",
       "8034510173818   Block           BlockOrcaFinalSinglePointEnergy   \n",
       "8034510173959   Block  BlockOrcaUnrecognizedWithSingeLineHeader   \n",
       "8034510173665   Block  BlockOrcaUnrecognizedWithSingeLineHeader   \n",
       "8034510173977  Spacer                                    Spacer   \n",
       "8034510173674  Spacer                                    Spacer   \n",
       "8034510173995  Spacer                                    Spacer   \n",
       "8034510173920   Block                              BlockUnknown   \n",
       "\n",
       "                                                         Element CharPosition  \\\n",
       "8034613232977  <chemparse.orca_elements.BlockOrcaTotalRunTime...   (565, 625)   \n",
       "8034510173491  <chemparse.orca_elements.BlockOrcaTerminatedNo...   (503, 564)   \n",
       "8034510173818  <chemparse.orca_elements.BlockOrcaFinalSingleP...   (354, 500)   \n",
       "8034510173959  <chemparse.orca_elements.BlockOrcaUnrecognized...    (45, 116)   \n",
       "8034510173665  <chemparse.orca_elements.BlockOrcaUnrecognized...   (117, 353)   \n",
       "8034510173977  <chemparse.elements.Spacer object at 0x74eae1f...       (0, 0)   \n",
       "8034510173674  <chemparse.elements.Spacer object at 0x74eae1f...     (44, 44)   \n",
       "8034510173995  <chemparse.elements.Spacer object at 0x74eae1f...   (501, 502)   \n",
       "8034510173920  <chemparse.elements.BlockUnknown object at 0x7...      (1, 43)   \n",
       "\n",
       "              LinePosition  \n",
       "8034613232977     (24, 25)  \n",
       "8034510173491     (23, 24)  \n",
       "8034510173818     (18, 21)  \n",
       "8034510173959      (6, 12)  \n",
       "8034510173665     (13, 19)  \n",
       "8034510173977       (1, 2)  \n",
       "8034510173674       (6, 7)  \n",
       "8034510173995     (22, 24)  \n",
       "8034510173920       (3, 5)  "
      ]
     },
     "execution_count": 5,
     "metadata": {},
     "output_type": "execute_result"
    }
   ],
   "source": [
    "orca_file.get_blocks()"
   ]
  },
  {
   "cell_type": "markdown",
   "metadata": {},
   "source": [
    "Let's extract the raw data. `get_data` returns pandas DataFrame"
   ]
  },
  {
   "cell_type": "code",
   "execution_count": 6,
   "metadata": {},
   "outputs": [
    {
     "data": {
      "text/html": [
       "<div>\n",
       "<style scoped>\n",
       "    .dataframe tbody tr th:only-of-type {\n",
       "        vertical-align: middle;\n",
       "    }\n",
       "\n",
       "    .dataframe tbody tr th {\n",
       "        vertical-align: top;\n",
       "    }\n",
       "\n",
       "    .dataframe thead th {\n",
       "        text-align: right;\n",
       "    }\n",
       "</style>\n",
       "<table border=\"1\" class=\"dataframe\">\n",
       "  <thead>\n",
       "    <tr style=\"text-align: right;\">\n",
       "      <th></th>\n",
       "      <th>Type</th>\n",
       "      <th>Subtype</th>\n",
       "      <th>Element</th>\n",
       "      <th>CharPosition</th>\n",
       "      <th>LinePosition</th>\n",
       "      <th>ReadableName</th>\n",
       "      <th>RawData</th>\n",
       "    </tr>\n",
       "  </thead>\n",
       "  <tbody>\n",
       "    <tr>\n",
       "      <th>8034613232977</th>\n",
       "      <td>Block</td>\n",
       "      <td>BlockOrcaTotalRunTime</td>\n",
       "      <td>&lt;chemparse.orca_elements.BlockOrcaTotalRunTime...</td>\n",
       "      <td>(565, 625)</td>\n",
       "      <td>(24, 25)</td>\n",
       "      <td>TOTAL RUN TIME</td>\n",
       "      <td>TOTAL RUN TIME: 0 days 0 hours 0 minutes 26 se...</td>\n",
       "    </tr>\n",
       "    <tr>\n",
       "      <th>8034510173491</th>\n",
       "      <td>Block</td>\n",
       "      <td>BlockOrcaTerminatedNormally</td>\n",
       "      <td>&lt;chemparse.orca_elements.BlockOrcaTerminatedNo...</td>\n",
       "      <td>(503, 564)</td>\n",
       "      <td>(23, 24)</td>\n",
       "      <td>ORCA TERMINATED NORMALLY</td>\n",
       "      <td>****ORCA TERMINAT...</td>\n",
       "    </tr>\n",
       "    <tr>\n",
       "      <th>8034510173818</th>\n",
       "      <td>Block</td>\n",
       "      <td>BlockOrcaFinalSinglePointEnergy</td>\n",
       "      <td>&lt;chemparse.orca_elements.BlockOrcaFinalSingleP...</td>\n",
       "      <td>(354, 500)</td>\n",
       "      <td>(18, 21)</td>\n",
       "      <td>FINAL SINGLE POINT ENERGY</td>\n",
       "      <td>-------------------------   ------------------...</td>\n",
       "    </tr>\n",
       "    <tr>\n",
       "      <th>8034510173959</th>\n",
       "      <td>Block</td>\n",
       "      <td>BlockOrcaUnrecognizedWithSingeLineHeader</td>\n",
       "      <td>&lt;chemparse.orca_elements.BlockOrcaUnrecognized...</td>\n",
       "      <td>(45, 116)</td>\n",
       "      <td>(6, 12)</td>\n",
       "      <td>My data</td>\n",
       "      <td>--------------------\\nMy data\\n---------------...</td>\n",
       "    </tr>\n",
       "    <tr>\n",
       "      <th>8034510173665</th>\n",
       "      <td>Block</td>\n",
       "      <td>BlockOrcaUnrecognizedWithSingeLineHeader</td>\n",
       "      <td>&lt;chemparse.orca_elements.BlockOrcaUnrecognized...</td>\n",
       "      <td>(117, 353)</td>\n",
       "      <td>(13, 19)</td>\n",
       "      <td>Another data</td>\n",
       "      <td>******************...</td>\n",
       "    </tr>\n",
       "    <tr>\n",
       "      <th>8034510173977</th>\n",
       "      <td>Spacer</td>\n",
       "      <td>Spacer</td>\n",
       "      <td>&lt;chemparse.elements.Spacer object at 0x74eae1f...</td>\n",
       "      <td>(0, 0)</td>\n",
       "      <td>(1, 2)</td>\n",
       "      <td>None</td>\n",
       "      <td>\\n</td>\n",
       "    </tr>\n",
       "    <tr>\n",
       "      <th>8034510173674</th>\n",
       "      <td>Spacer</td>\n",
       "      <td>Spacer</td>\n",
       "      <td>&lt;chemparse.elements.Spacer object at 0x74eae1f...</td>\n",
       "      <td>(44, 44)</td>\n",
       "      <td>(6, 7)</td>\n",
       "      <td>None</td>\n",
       "      <td>\\n</td>\n",
       "    </tr>\n",
       "    <tr>\n",
       "      <th>8034510173995</th>\n",
       "      <td>Spacer</td>\n",
       "      <td>Spacer</td>\n",
       "      <td>&lt;chemparse.elements.Spacer object at 0x74eae1f...</td>\n",
       "      <td>(501, 502)</td>\n",
       "      <td>(22, 24)</td>\n",
       "      <td>None</td>\n",
       "      <td>\\n\\n</td>\n",
       "    </tr>\n",
       "    <tr>\n",
       "      <th>8034510173920</th>\n",
       "      <td>Block</td>\n",
       "      <td>BlockUnknown</td>\n",
       "      <td>&lt;chemparse.elements.BlockUnknown object at 0x7...</td>\n",
       "      <td>(1, 43)</td>\n",
       "      <td>(3, 5)</td>\n",
       "      <td>My start of the message messag...</td>\n",
       "      <td>My start of the message: message1\\nmessage2\\n</td>\n",
       "    </tr>\n",
       "  </tbody>\n",
       "</table>\n",
       "</div>"
      ],
      "text/plain": [
       "                 Type                                   Subtype  \\\n",
       "8034613232977   Block                     BlockOrcaTotalRunTime   \n",
       "8034510173491   Block               BlockOrcaTerminatedNormally   \n",
       "8034510173818   Block           BlockOrcaFinalSinglePointEnergy   \n",
       "8034510173959   Block  BlockOrcaUnrecognizedWithSingeLineHeader   \n",
       "8034510173665   Block  BlockOrcaUnrecognizedWithSingeLineHeader   \n",
       "8034510173977  Spacer                                    Spacer   \n",
       "8034510173674  Spacer                                    Spacer   \n",
       "8034510173995  Spacer                                    Spacer   \n",
       "8034510173920   Block                              BlockUnknown   \n",
       "\n",
       "                                                         Element CharPosition  \\\n",
       "8034613232977  <chemparse.orca_elements.BlockOrcaTotalRunTime...   (565, 625)   \n",
       "8034510173491  <chemparse.orca_elements.BlockOrcaTerminatedNo...   (503, 564)   \n",
       "8034510173818  <chemparse.orca_elements.BlockOrcaFinalSingleP...   (354, 500)   \n",
       "8034510173959  <chemparse.orca_elements.BlockOrcaUnrecognized...    (45, 116)   \n",
       "8034510173665  <chemparse.orca_elements.BlockOrcaUnrecognized...   (117, 353)   \n",
       "8034510173977  <chemparse.elements.Spacer object at 0x74eae1f...       (0, 0)   \n",
       "8034510173674  <chemparse.elements.Spacer object at 0x74eae1f...     (44, 44)   \n",
       "8034510173995  <chemparse.elements.Spacer object at 0x74eae1f...   (501, 502)   \n",
       "8034510173920  <chemparse.elements.BlockUnknown object at 0x7...      (1, 43)   \n",
       "\n",
       "              LinePosition                       ReadableName  \\\n",
       "8034613232977     (24, 25)                     TOTAL RUN TIME   \n",
       "8034510173491     (23, 24)           ORCA TERMINATED NORMALLY   \n",
       "8034510173818     (18, 21)          FINAL SINGLE POINT ENERGY   \n",
       "8034510173959      (6, 12)                            My data   \n",
       "8034510173665     (13, 19)                       Another data   \n",
       "8034510173977       (1, 2)                               None   \n",
       "8034510173674       (6, 7)                               None   \n",
       "8034510173995     (22, 24)                               None   \n",
       "8034510173920       (3, 5)  My start of the message messag...   \n",
       "\n",
       "                                                         RawData  \n",
       "8034613232977  TOTAL RUN TIME: 0 days 0 hours 0 minutes 26 se...  \n",
       "8034510173491                               ****ORCA TERMINAT...  \n",
       "8034510173818  -------------------------   ------------------...  \n",
       "8034510173959  --------------------\\nMy data\\n---------------...  \n",
       "8034510173665                              ******************...  \n",
       "8034510173977                                                 \\n  \n",
       "8034510173674                                                 \\n  \n",
       "8034510173995                                               \\n\\n  \n",
       "8034510173920      My start of the message: message1\\nmessage2\\n  "
      ]
     },
     "execution_count": 6,
     "metadata": {},
     "output_type": "execute_result"
    }
   ],
   "source": [
    "orca_file.get_data(extract_only_raw=True)"
   ]
  },
  {
   "cell_type": "markdown",
   "metadata": {},
   "source": [
    "Let's extract the processed data"
   ]
  },
  {
   "cell_type": "markdown",
   "metadata": {},
   "source": [
    "You will get warnings about the unrecognized blocks. ExtractedData type is None or orcaparser.data.Data"
   ]
  },
  {
   "cell_type": "code",
   "execution_count": 7,
   "metadata": {},
   "outputs": [
    {
     "name": "stderr",
     "output_type": "stream",
     "text": [
      "2024-04-04 20:21:58,859 - chemparse - WARNING - No procedure for analyzing the data found in type `BlockOrcaUnrecognizedWithSingeLineHeader`, returning the raw data:\n",
      "--------------------\n",
      "My data\n",
      "--------------------\n",
      " \n",
      "My value: 1.234 eV\n",
      "\n",
      "\n",
      "2024-04-04 20:21:58,860 - chemparse - WARNING - No procedure for analyzing the data found in type `BlockOrcaUnrecognizedWithSingeLineHeader`, returning the raw data:\n",
      "                            ***************************************\n",
      "                            *            Another data             *\n",
      "                            ***************************************\n",
      "Not my match\n",
      "My value: 9.876 eV\n",
      "\n",
      "\n",
      "2024-04-04 20:21:58,860 - chemparse - WARNING - The block looks unstructured. Please contribute to the project if you have knowledge on how to extract data from it.\n"
     ]
    },
    {
     "data": {
      "text/html": [
       "<div>\n",
       "<style scoped>\n",
       "    .dataframe tbody tr th:only-of-type {\n",
       "        vertical-align: middle;\n",
       "    }\n",
       "\n",
       "    .dataframe tbody tr th {\n",
       "        vertical-align: top;\n",
       "    }\n",
       "\n",
       "    .dataframe thead th {\n",
       "        text-align: right;\n",
       "    }\n",
       "</style>\n",
       "<table border=\"1\" class=\"dataframe\">\n",
       "  <thead>\n",
       "    <tr style=\"text-align: right;\">\n",
       "      <th></th>\n",
       "      <th>Type</th>\n",
       "      <th>Subtype</th>\n",
       "      <th>Element</th>\n",
       "      <th>CharPosition</th>\n",
       "      <th>LinePosition</th>\n",
       "      <th>ReadableName</th>\n",
       "      <th>RawData</th>\n",
       "      <th>ExtractedData</th>\n",
       "    </tr>\n",
       "  </thead>\n",
       "  <tbody>\n",
       "    <tr>\n",
       "      <th>8034613232977</th>\n",
       "      <td>Block</td>\n",
       "      <td>BlockOrcaTotalRunTime</td>\n",
       "      <td>&lt;chemparse.orca_elements.BlockOrcaTotalRunTime...</td>\n",
       "      <td>(565, 625)</td>\n",
       "      <td>(24, 25)</td>\n",
       "      <td>TOTAL RUN TIME</td>\n",
       "      <td>TOTAL RUN TIME: 0 days 0 hours 0 minutes 26 se...</td>\n",
       "      <td>[Run Time]</td>\n",
       "    </tr>\n",
       "    <tr>\n",
       "      <th>8034510173491</th>\n",
       "      <td>Block</td>\n",
       "      <td>BlockOrcaTerminatedNormally</td>\n",
       "      <td>&lt;chemparse.orca_elements.BlockOrcaTerminatedNo...</td>\n",
       "      <td>(503, 564)</td>\n",
       "      <td>(23, 24)</td>\n",
       "      <td>ORCA TERMINATED NORMALLY</td>\n",
       "      <td>****ORCA TERMINAT...</td>\n",
       "      <td>[Termination status]</td>\n",
       "    </tr>\n",
       "    <tr>\n",
       "      <th>8034510173818</th>\n",
       "      <td>Block</td>\n",
       "      <td>BlockOrcaFinalSinglePointEnergy</td>\n",
       "      <td>&lt;chemparse.orca_elements.BlockOrcaFinalSingleP...</td>\n",
       "      <td>(354, 500)</td>\n",
       "      <td>(18, 21)</td>\n",
       "      <td>FINAL SINGLE POINT ENERGY</td>\n",
       "      <td>-------------------------   ------------------...</td>\n",
       "      <td>[Energy]</td>\n",
       "    </tr>\n",
       "    <tr>\n",
       "      <th>8034510173959</th>\n",
       "      <td>Block</td>\n",
       "      <td>BlockOrcaUnrecognizedWithSingeLineHeader</td>\n",
       "      <td>&lt;chemparse.orca_elements.BlockOrcaUnrecognized...</td>\n",
       "      <td>(45, 116)</td>\n",
       "      <td>(6, 12)</td>\n",
       "      <td>My data</td>\n",
       "      <td>--------------------\\nMy data\\n---------------...</td>\n",
       "      <td>[raw data]</td>\n",
       "    </tr>\n",
       "    <tr>\n",
       "      <th>8034510173665</th>\n",
       "      <td>Block</td>\n",
       "      <td>BlockOrcaUnrecognizedWithSingeLineHeader</td>\n",
       "      <td>&lt;chemparse.orca_elements.BlockOrcaUnrecognized...</td>\n",
       "      <td>(117, 353)</td>\n",
       "      <td>(13, 19)</td>\n",
       "      <td>Another data</td>\n",
       "      <td>******************...</td>\n",
       "      <td>[raw data]</td>\n",
       "    </tr>\n",
       "    <tr>\n",
       "      <th>8034510173977</th>\n",
       "      <td>Spacer</td>\n",
       "      <td>Spacer</td>\n",
       "      <td>&lt;chemparse.elements.Spacer object at 0x74eae1f...</td>\n",
       "      <td>(0, 0)</td>\n",
       "      <td>(1, 2)</td>\n",
       "      <td>None</td>\n",
       "      <td>\\n</td>\n",
       "      <td>None</td>\n",
       "    </tr>\n",
       "    <tr>\n",
       "      <th>8034510173674</th>\n",
       "      <td>Spacer</td>\n",
       "      <td>Spacer</td>\n",
       "      <td>&lt;chemparse.elements.Spacer object at 0x74eae1f...</td>\n",
       "      <td>(44, 44)</td>\n",
       "      <td>(6, 7)</td>\n",
       "      <td>None</td>\n",
       "      <td>\\n</td>\n",
       "      <td>None</td>\n",
       "    </tr>\n",
       "    <tr>\n",
       "      <th>8034510173995</th>\n",
       "      <td>Spacer</td>\n",
       "      <td>Spacer</td>\n",
       "      <td>&lt;chemparse.elements.Spacer object at 0x74eae1f...</td>\n",
       "      <td>(501, 502)</td>\n",
       "      <td>(22, 24)</td>\n",
       "      <td>None</td>\n",
       "      <td>\\n\\n</td>\n",
       "      <td>None</td>\n",
       "    </tr>\n",
       "    <tr>\n",
       "      <th>8034510173920</th>\n",
       "      <td>Block</td>\n",
       "      <td>BlockUnknown</td>\n",
       "      <td>&lt;chemparse.elements.BlockUnknown object at 0x7...</td>\n",
       "      <td>(1, 43)</td>\n",
       "      <td>(3, 5)</td>\n",
       "      <td>My start of the message messag...</td>\n",
       "      <td>My start of the message: message1\\nmessage2\\n</td>\n",
       "      <td>[raw data]</td>\n",
       "    </tr>\n",
       "  </tbody>\n",
       "</table>\n",
       "</div>"
      ],
      "text/plain": [
       "                 Type                                   Subtype  \\\n",
       "8034613232977   Block                     BlockOrcaTotalRunTime   \n",
       "8034510173491   Block               BlockOrcaTerminatedNormally   \n",
       "8034510173818   Block           BlockOrcaFinalSinglePointEnergy   \n",
       "8034510173959   Block  BlockOrcaUnrecognizedWithSingeLineHeader   \n",
       "8034510173665   Block  BlockOrcaUnrecognizedWithSingeLineHeader   \n",
       "8034510173977  Spacer                                    Spacer   \n",
       "8034510173674  Spacer                                    Spacer   \n",
       "8034510173995  Spacer                                    Spacer   \n",
       "8034510173920   Block                              BlockUnknown   \n",
       "\n",
       "                                                         Element CharPosition  \\\n",
       "8034613232977  <chemparse.orca_elements.BlockOrcaTotalRunTime...   (565, 625)   \n",
       "8034510173491  <chemparse.orca_elements.BlockOrcaTerminatedNo...   (503, 564)   \n",
       "8034510173818  <chemparse.orca_elements.BlockOrcaFinalSingleP...   (354, 500)   \n",
       "8034510173959  <chemparse.orca_elements.BlockOrcaUnrecognized...    (45, 116)   \n",
       "8034510173665  <chemparse.orca_elements.BlockOrcaUnrecognized...   (117, 353)   \n",
       "8034510173977  <chemparse.elements.Spacer object at 0x74eae1f...       (0, 0)   \n",
       "8034510173674  <chemparse.elements.Spacer object at 0x74eae1f...     (44, 44)   \n",
       "8034510173995  <chemparse.elements.Spacer object at 0x74eae1f...   (501, 502)   \n",
       "8034510173920  <chemparse.elements.BlockUnknown object at 0x7...      (1, 43)   \n",
       "\n",
       "              LinePosition                       ReadableName  \\\n",
       "8034613232977     (24, 25)                     TOTAL RUN TIME   \n",
       "8034510173491     (23, 24)           ORCA TERMINATED NORMALLY   \n",
       "8034510173818     (18, 21)          FINAL SINGLE POINT ENERGY   \n",
       "8034510173959      (6, 12)                            My data   \n",
       "8034510173665     (13, 19)                       Another data   \n",
       "8034510173977       (1, 2)                               None   \n",
       "8034510173674       (6, 7)                               None   \n",
       "8034510173995     (22, 24)                               None   \n",
       "8034510173920       (3, 5)  My start of the message messag...   \n",
       "\n",
       "                                                         RawData  \\\n",
       "8034613232977  TOTAL RUN TIME: 0 days 0 hours 0 minutes 26 se...   \n",
       "8034510173491                               ****ORCA TERMINAT...   \n",
       "8034510173818  -------------------------   ------------------...   \n",
       "8034510173959  --------------------\\nMy data\\n---------------...   \n",
       "8034510173665                              ******************...   \n",
       "8034510173977                                                 \\n   \n",
       "8034510173674                                                 \\n   \n",
       "8034510173995                                               \\n\\n   \n",
       "8034510173920      My start of the message: message1\\nmessage2\\n   \n",
       "\n",
       "                      ExtractedData  \n",
       "8034613232977            [Run Time]  \n",
       "8034510173491  [Termination status]  \n",
       "8034510173818              [Energy]  \n",
       "8034510173959            [raw data]  \n",
       "8034510173665            [raw data]  \n",
       "8034510173977                  None  \n",
       "8034510173674                  None  \n",
       "8034510173995                  None  \n",
       "8034510173920            [raw data]  "
      ]
     },
     "execution_count": 7,
     "metadata": {},
     "output_type": "execute_result"
    }
   ],
   "source": [
    "orca_file.get_data()"
   ]
  },
  {
   "cell_type": "markdown",
   "metadata": {},
   "source": [
    "Let's extract the specific block that has \"My value\" in it"
   ]
  },
  {
   "cell_type": "markdown",
   "metadata": {},
   "source": [
    "The same text may occur in different blocks"
   ]
  },
  {
   "cell_type": "code",
   "execution_count": 8,
   "metadata": {},
   "outputs": [
    {
     "name": "stderr",
     "output_type": "stream",
     "text": [
      "2024-04-04 20:21:58,872 - chemparse - WARNING - No procedure for analyzing the data found in type `BlockOrcaUnrecognizedWithSingeLineHeader`, returning the raw data:\n",
      "--------------------\n",
      "My data\n",
      "--------------------\n",
      " \n",
      "My value: 1.234 eV\n",
      "\n",
      "\n",
      "2024-04-04 20:21:58,873 - chemparse - WARNING - No procedure for analyzing the data found in type `BlockOrcaUnrecognizedWithSingeLineHeader`, returning the raw data:\n",
      "                            ***************************************\n",
      "                            *            Another data             *\n",
      "                            ***************************************\n",
      "Not my match\n",
      "My value: 9.876 eV\n",
      "\n",
      "\n"
     ]
    },
    {
     "data": {
      "text/html": [
       "<div>\n",
       "<style scoped>\n",
       "    .dataframe tbody tr th:only-of-type {\n",
       "        vertical-align: middle;\n",
       "    }\n",
       "\n",
       "    .dataframe tbody tr th {\n",
       "        vertical-align: top;\n",
       "    }\n",
       "\n",
       "    .dataframe thead th {\n",
       "        text-align: right;\n",
       "    }\n",
       "</style>\n",
       "<table border=\"1\" class=\"dataframe\">\n",
       "  <thead>\n",
       "    <tr style=\"text-align: right;\">\n",
       "      <th></th>\n",
       "      <th>Type</th>\n",
       "      <th>Subtype</th>\n",
       "      <th>Element</th>\n",
       "      <th>CharPosition</th>\n",
       "      <th>LinePosition</th>\n",
       "      <th>ReadableName</th>\n",
       "      <th>RawData</th>\n",
       "      <th>ExtractedData</th>\n",
       "    </tr>\n",
       "  </thead>\n",
       "  <tbody>\n",
       "    <tr>\n",
       "      <th>8034510173959</th>\n",
       "      <td>Block</td>\n",
       "      <td>BlockOrcaUnrecognizedWithSingeLineHeader</td>\n",
       "      <td>&lt;chemparse.orca_elements.BlockOrcaUnrecognized...</td>\n",
       "      <td>(45, 116)</td>\n",
       "      <td>(6, 12)</td>\n",
       "      <td>My data</td>\n",
       "      <td>--------------------\\nMy data\\n---------------...</td>\n",
       "      <td>[raw data]</td>\n",
       "    </tr>\n",
       "    <tr>\n",
       "      <th>8034510173665</th>\n",
       "      <td>Block</td>\n",
       "      <td>BlockOrcaUnrecognizedWithSingeLineHeader</td>\n",
       "      <td>&lt;chemparse.orca_elements.BlockOrcaUnrecognized...</td>\n",
       "      <td>(117, 353)</td>\n",
       "      <td>(13, 19)</td>\n",
       "      <td>Another data</td>\n",
       "      <td>******************...</td>\n",
       "      <td>[raw data]</td>\n",
       "    </tr>\n",
       "  </tbody>\n",
       "</table>\n",
       "</div>"
      ],
      "text/plain": [
       "                Type                                   Subtype  \\\n",
       "8034510173959  Block  BlockOrcaUnrecognizedWithSingeLineHeader   \n",
       "8034510173665  Block  BlockOrcaUnrecognizedWithSingeLineHeader   \n",
       "\n",
       "                                                         Element CharPosition  \\\n",
       "8034510173959  <chemparse.orca_elements.BlockOrcaUnrecognized...    (45, 116)   \n",
       "8034510173665  <chemparse.orca_elements.BlockOrcaUnrecognized...   (117, 353)   \n",
       "\n",
       "              LinePosition  ReadableName  \\\n",
       "8034510173959      (6, 12)       My data   \n",
       "8034510173665     (13, 19)  Another data   \n",
       "\n",
       "                                                         RawData ExtractedData  \n",
       "8034510173959  --------------------\\nMy data\\n---------------...    [raw data]  \n",
       "8034510173665                              ******************...    [raw data]  "
      ]
     },
     "execution_count": 8,
     "metadata": {},
     "output_type": "execute_result"
    }
   ],
   "source": [
    "orca_file.get_data(raw_data_substring=\"My value\")"
   ]
  },
  {
   "cell_type": "markdown",
   "metadata": {},
   "source": [
    "The easiest way to extract the needed data in this case is to add some other text that is present in the block"
   ]
  },
  {
   "cell_type": "code",
   "execution_count": 9,
   "metadata": {},
   "outputs": [
    {
     "name": "stderr",
     "output_type": "stream",
     "text": [
      "2024-04-04 20:21:58,883 - chemparse - WARNING - No procedure for analyzing the data found in type `BlockOrcaUnrecognizedWithSingeLineHeader`, returning the raw data:\n",
      "--------------------\n",
      "My data\n",
      "--------------------\n",
      " \n",
      "My value: 1.234 eV\n",
      "\n",
      "\n"
     ]
    },
    {
     "data": {
      "text/html": [
       "<div>\n",
       "<style scoped>\n",
       "    .dataframe tbody tr th:only-of-type {\n",
       "        vertical-align: middle;\n",
       "    }\n",
       "\n",
       "    .dataframe tbody tr th {\n",
       "        vertical-align: top;\n",
       "    }\n",
       "\n",
       "    .dataframe thead th {\n",
       "        text-align: right;\n",
       "    }\n",
       "</style>\n",
       "<table border=\"1\" class=\"dataframe\">\n",
       "  <thead>\n",
       "    <tr style=\"text-align: right;\">\n",
       "      <th></th>\n",
       "      <th>Type</th>\n",
       "      <th>Subtype</th>\n",
       "      <th>Element</th>\n",
       "      <th>CharPosition</th>\n",
       "      <th>LinePosition</th>\n",
       "      <th>ReadableName</th>\n",
       "      <th>RawData</th>\n",
       "      <th>ExtractedData</th>\n",
       "    </tr>\n",
       "  </thead>\n",
       "  <tbody>\n",
       "    <tr>\n",
       "      <th>8034510173959</th>\n",
       "      <td>Block</td>\n",
       "      <td>BlockOrcaUnrecognizedWithSingeLineHeader</td>\n",
       "      <td>&lt;chemparse.orca_elements.BlockOrcaUnrecognized...</td>\n",
       "      <td>(45, 116)</td>\n",
       "      <td>(6, 12)</td>\n",
       "      <td>My data</td>\n",
       "      <td>--------------------\\nMy data\\n---------------...</td>\n",
       "      <td>[raw data]</td>\n",
       "    </tr>\n",
       "  </tbody>\n",
       "</table>\n",
       "</div>"
      ],
      "text/plain": [
       "                Type                                   Subtype  \\\n",
       "8034510173959  Block  BlockOrcaUnrecognizedWithSingeLineHeader   \n",
       "\n",
       "                                                         Element CharPosition  \\\n",
       "8034510173959  <chemparse.orca_elements.BlockOrcaUnrecognized...    (45, 116)   \n",
       "\n",
       "              LinePosition ReadableName  \\\n",
       "8034510173959      (6, 12)      My data   \n",
       "\n",
       "                                                         RawData ExtractedData  \n",
       "8034510173959  --------------------\\nMy data\\n---------------...    [raw data]  "
      ]
     },
     "execution_count": 9,
     "metadata": {},
     "output_type": "execute_result"
    }
   ],
   "source": [
    "orca_file.get_data(raw_data_substring=(\"My value\", \"My data\"))"
   ]
  },
  {
   "cell_type": "markdown",
   "metadata": {},
   "source": [
    "Or to exclude the ones that are not yours"
   ]
  },
  {
   "cell_type": "code",
   "execution_count": 10,
   "metadata": {},
   "outputs": [
    {
     "name": "stderr",
     "output_type": "stream",
     "text": [
      "2024-04-04 20:21:58,892 - chemparse - WARNING - No procedure for analyzing the data found in type `BlockOrcaUnrecognizedWithSingeLineHeader`, returning the raw data:\n",
      "--------------------\n",
      "My data\n",
      "--------------------\n",
      " \n",
      "My value: 1.234 eV\n",
      "\n",
      "\n"
     ]
    },
    {
     "data": {
      "text/html": [
       "<div>\n",
       "<style scoped>\n",
       "    .dataframe tbody tr th:only-of-type {\n",
       "        vertical-align: middle;\n",
       "    }\n",
       "\n",
       "    .dataframe tbody tr th {\n",
       "        vertical-align: top;\n",
       "    }\n",
       "\n",
       "    .dataframe thead th {\n",
       "        text-align: right;\n",
       "    }\n",
       "</style>\n",
       "<table border=\"1\" class=\"dataframe\">\n",
       "  <thead>\n",
       "    <tr style=\"text-align: right;\">\n",
       "      <th></th>\n",
       "      <th>Type</th>\n",
       "      <th>Subtype</th>\n",
       "      <th>Element</th>\n",
       "      <th>CharPosition</th>\n",
       "      <th>LinePosition</th>\n",
       "      <th>ReadableName</th>\n",
       "      <th>RawData</th>\n",
       "      <th>ExtractedData</th>\n",
       "    </tr>\n",
       "  </thead>\n",
       "  <tbody>\n",
       "    <tr>\n",
       "      <th>8034510173959</th>\n",
       "      <td>Block</td>\n",
       "      <td>BlockOrcaUnrecognizedWithSingeLineHeader</td>\n",
       "      <td>&lt;chemparse.orca_elements.BlockOrcaUnrecognized...</td>\n",
       "      <td>(45, 116)</td>\n",
       "      <td>(6, 12)</td>\n",
       "      <td>My data</td>\n",
       "      <td>--------------------\\nMy data\\n---------------...</td>\n",
       "      <td>[raw data]</td>\n",
       "    </tr>\n",
       "  </tbody>\n",
       "</table>\n",
       "</div>"
      ],
      "text/plain": [
       "                Type                                   Subtype  \\\n",
       "8034510173959  Block  BlockOrcaUnrecognizedWithSingeLineHeader   \n",
       "\n",
       "                                                         Element CharPosition  \\\n",
       "8034510173959  <chemparse.orca_elements.BlockOrcaUnrecognized...    (45, 116)   \n",
       "\n",
       "              LinePosition ReadableName  \\\n",
       "8034510173959      (6, 12)      My data   \n",
       "\n",
       "                                                         RawData ExtractedData  \n",
       "8034510173959  --------------------\\nMy data\\n---------------...    [raw data]  "
      ]
     },
     "execution_count": 10,
     "metadata": {},
     "output_type": "execute_result"
    }
   ],
   "source": [
    "orca_file.get_data(raw_data_substring=\"My value\",\n",
    "                   raw_data_not_substring=\"Not my match\")"
   ]
  },
  {
   "cell_type": "markdown",
   "metadata": {},
   "source": [
    "or we can extract the one we need by the readable name (you can find it in html file TOC)"
   ]
  },
  {
   "cell_type": "code",
   "execution_count": 11,
   "metadata": {},
   "outputs": [
    {
     "name": "stderr",
     "output_type": "stream",
     "text": [
      "2024-04-04 20:21:58,903 - chemparse - WARNING - No procedure for analyzing the data found in type `BlockOrcaUnrecognizedWithSingeLineHeader`, returning the raw data:\n",
      "--------------------\n",
      "My data\n",
      "--------------------\n",
      " \n",
      "My value: 1.234 eV\n",
      "\n",
      "\n"
     ]
    },
    {
     "data": {
      "text/html": [
       "<div>\n",
       "<style scoped>\n",
       "    .dataframe tbody tr th:only-of-type {\n",
       "        vertical-align: middle;\n",
       "    }\n",
       "\n",
       "    .dataframe tbody tr th {\n",
       "        vertical-align: top;\n",
       "    }\n",
       "\n",
       "    .dataframe thead th {\n",
       "        text-align: right;\n",
       "    }\n",
       "</style>\n",
       "<table border=\"1\" class=\"dataframe\">\n",
       "  <thead>\n",
       "    <tr style=\"text-align: right;\">\n",
       "      <th></th>\n",
       "      <th>Type</th>\n",
       "      <th>Subtype</th>\n",
       "      <th>Element</th>\n",
       "      <th>CharPosition</th>\n",
       "      <th>LinePosition</th>\n",
       "      <th>ReadableName</th>\n",
       "      <th>RawData</th>\n",
       "      <th>ExtractedData</th>\n",
       "    </tr>\n",
       "  </thead>\n",
       "  <tbody>\n",
       "    <tr>\n",
       "      <th>8034510173959</th>\n",
       "      <td>Block</td>\n",
       "      <td>BlockOrcaUnrecognizedWithSingeLineHeader</td>\n",
       "      <td>&lt;chemparse.orca_elements.BlockOrcaUnrecognized...</td>\n",
       "      <td>(45, 116)</td>\n",
       "      <td>(6, 12)</td>\n",
       "      <td>My data</td>\n",
       "      <td>--------------------\\nMy data\\n---------------...</td>\n",
       "      <td>[raw data]</td>\n",
       "    </tr>\n",
       "  </tbody>\n",
       "</table>\n",
       "</div>"
      ],
      "text/plain": [
       "                Type                                   Subtype  \\\n",
       "8034510173959  Block  BlockOrcaUnrecognizedWithSingeLineHeader   \n",
       "\n",
       "                                                         Element CharPosition  \\\n",
       "8034510173959  <chemparse.orca_elements.BlockOrcaUnrecognized...    (45, 116)   \n",
       "\n",
       "              LinePosition ReadableName  \\\n",
       "8034510173959      (6, 12)      My data   \n",
       "\n",
       "                                                         RawData ExtractedData  \n",
       "8034510173959  --------------------\\nMy data\\n---------------...    [raw data]  "
      ]
     },
     "execution_count": 11,
     "metadata": {},
     "output_type": "execute_result"
    }
   ],
   "source": [
    "orca_file.get_data(readable_name=\"My data\")"
   ]
  },
  {
   "cell_type": "markdown",
   "metadata": {},
   "source": [
    "You can ask for more than one parameter of search"
   ]
  },
  {
   "cell_type": "code",
   "execution_count": 12,
   "metadata": {},
   "outputs": [
    {
     "name": "stderr",
     "output_type": "stream",
     "text": [
      "2024-04-04 20:21:58,913 - chemparse - WARNING - No procedure for analyzing the data found in type `BlockOrcaUnrecognizedWithSingeLineHeader`, returning the raw data:\n",
      "--------------------\n",
      "My data\n",
      "--------------------\n",
      " \n",
      "My value: 1.234 eV\n",
      "\n",
      "\n"
     ]
    },
    {
     "data": {
      "text/html": [
       "<div>\n",
       "<style scoped>\n",
       "    .dataframe tbody tr th:only-of-type {\n",
       "        vertical-align: middle;\n",
       "    }\n",
       "\n",
       "    .dataframe tbody tr th {\n",
       "        vertical-align: top;\n",
       "    }\n",
       "\n",
       "    .dataframe thead th {\n",
       "        text-align: right;\n",
       "    }\n",
       "</style>\n",
       "<table border=\"1\" class=\"dataframe\">\n",
       "  <thead>\n",
       "    <tr style=\"text-align: right;\">\n",
       "      <th></th>\n",
       "      <th>Type</th>\n",
       "      <th>Subtype</th>\n",
       "      <th>Element</th>\n",
       "      <th>CharPosition</th>\n",
       "      <th>LinePosition</th>\n",
       "      <th>ReadableName</th>\n",
       "      <th>RawData</th>\n",
       "      <th>ExtractedData</th>\n",
       "    </tr>\n",
       "  </thead>\n",
       "  <tbody>\n",
       "    <tr>\n",
       "      <th>8034510173959</th>\n",
       "      <td>Block</td>\n",
       "      <td>BlockOrcaUnrecognizedWithSingeLineHeader</td>\n",
       "      <td>&lt;chemparse.orca_elements.BlockOrcaUnrecognized...</td>\n",
       "      <td>(45, 116)</td>\n",
       "      <td>(6, 12)</td>\n",
       "      <td>My data</td>\n",
       "      <td>--------------------\\nMy data\\n---------------...</td>\n",
       "      <td>[raw data]</td>\n",
       "    </tr>\n",
       "  </tbody>\n",
       "</table>\n",
       "</div>"
      ],
      "text/plain": [
       "                Type                                   Subtype  \\\n",
       "8034510173959  Block  BlockOrcaUnrecognizedWithSingeLineHeader   \n",
       "\n",
       "                                                         Element CharPosition  \\\n",
       "8034510173959  <chemparse.orca_elements.BlockOrcaUnrecognized...    (45, 116)   \n",
       "\n",
       "              LinePosition ReadableName  \\\n",
       "8034510173959      (6, 12)      My data   \n",
       "\n",
       "                                                         RawData ExtractedData  \n",
       "8034510173959  --------------------\\nMy data\\n---------------...    [raw data]  "
      ]
     },
     "execution_count": 12,
     "metadata": {},
     "output_type": "execute_result"
    }
   ],
   "source": [
    "orca_file.get_data(raw_data_substring=(\n",
    "    \"My value\", \"My data\"), readable_name=\"My data\")"
   ]
  },
  {
   "cell_type": "markdown",
   "metadata": {},
   "source": [
    "Lets extract the data and have a look on what it contains"
   ]
  },
  {
   "cell_type": "code",
   "execution_count": 13,
   "metadata": {},
   "outputs": [
    {
     "name": "stderr",
     "output_type": "stream",
     "text": [
      "2024-04-04 20:21:58,923 - chemparse - WARNING - No procedure for analyzing the data found in type `BlockOrcaUnrecognizedWithSingeLineHeader`, returning the raw data:\n",
      "--------------------\n",
      "My data\n",
      "--------------------\n",
      " \n",
      "My value: 1.234 eV\n",
      "\n",
      "\n"
     ]
    }
   ],
   "source": [
    "df = orca_file.get_data(readable_name=\"My data\")"
   ]
  },
  {
   "cell_type": "code",
   "execution_count": 14,
   "metadata": {},
   "outputs": [
    {
     "name": "stdout",
     "output_type": "stream",
     "text": [
      "type(data) = <class 'chemparse.data.Data'>\n",
      "str(data) = 'Data with items: `raw data`. Comment: No procedure for analyzing the data found, `raw data` collected.\\nPlease contribute to the project if you have knowledge on how to extract data from it.'\n"
     ]
    }
   ],
   "source": [
    "data = df.iloc[0].ExtractedData\n",
    "print(f\"{type(data) = }\")\n",
    "print(f\"{str(data) = }\")"
   ]
  },
  {
   "cell_type": "markdown",
   "metadata": {},
   "source": [
    "Even though no method for the extraction was found, the data can be extracted as text"
   ]
  },
  {
   "cell_type": "code",
   "execution_count": 15,
   "metadata": {},
   "outputs": [
    {
     "data": {
      "text/plain": [
       "'--------------------\\nMy data\\n--------------------\\n \\nMy value: 1.234 eV\\n\\n'"
      ]
     },
     "execution_count": 15,
     "metadata": {},
     "output_type": "execute_result"
    }
   ],
   "source": [
    "data[\"raw data\"]"
   ]
  },
  {
   "cell_type": "markdown",
   "metadata": {},
   "source": [
    "Lets extract the data that is known"
   ]
  },
  {
   "cell_type": "markdown",
   "metadata": {},
   "source": [
    "Time is stored as timedelta, tables as pandas Dataframes, values with units as pint Quantity"
   ]
  },
  {
   "cell_type": "code",
   "execution_count": 16,
   "metadata": {},
   "outputs": [
    {
     "name": "stdout",
     "output_type": "stream",
     "text": [
      "str(data) = 'Data with items: `Run Time`. Comment: `Run Time` is timedelta object'\n",
      "data[\"Run Time\"] = datetime.timedelta(seconds=26, microseconds=139000)\n"
     ]
    }
   ],
   "source": [
    "df = orca_file.get_data(readable_name=\"TOTAL RUN TIME\")\n",
    "data = df.iloc[0].ExtractedData\n",
    "print(f\"{str(data) = }\")\n",
    "print(f'{data[\"Run Time\"] = }')"
   ]
  },
  {
   "cell_type": "code",
   "execution_count": 17,
   "metadata": {},
   "outputs": [
    {
     "name": "stdout",
     "output_type": "stream",
     "text": [
      "str(data) = 'Data with items: `Energy`. Comment: `Energy` in pint format, to extract the value in Eh, use property .magnitude'\n",
      "data[\"Energy\"] = <Quantity(-440.50856, 'hartree')>\n",
      "data[\"Energy\"].magnitude = -440.508559636589\n",
      "data[\"Energy\"].units = <Unit('hartree')>\n"
     ]
    }
   ],
   "source": [
    "df = orca_file.get_data(readable_name=\"FINAL SINGLE POINT ENERGY\")\n",
    "data = df.iloc[0].ExtractedData\n",
    "print(f\"{str(data) = }\")\n",
    "print(f'{data[\"Energy\"] = }')\n",
    "print(f'{data[\"Energy\"].magnitude = }')\n",
    "print(f'{data[\"Energy\"].units = }')"
   ]
  },
  {
   "cell_type": "code",
   "execution_count": null,
   "metadata": {},
   "outputs": [],
   "source": []
  }
 ],
 "metadata": {
  "kernelspec": {
   "display_name": "orcaparse-JPddDQYw-py3.10",
   "language": "python",
   "name": "python3"
  },
  "language_info": {
   "codemirror_mode": {
    "name": "ipython",
    "version": 3
   },
   "file_extension": ".py",
   "mimetype": "text/x-python",
   "name": "python",
   "nbconvert_exporter": "python",
   "pygments_lexer": "ipython3",
   "version": "3.10.12"
  }
 },
 "nbformat": 4,
 "nbformat_minor": 2
}
